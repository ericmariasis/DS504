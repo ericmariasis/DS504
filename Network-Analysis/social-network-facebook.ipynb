{
 "cells": [
  {
   "cell_type": "markdown",
   "metadata": {},
   "source": [
    "# Social Network Analysis on Facebook dataset"
   ]
  },
  {
   "cell_type": "markdown",
   "metadata": {},
   "source": [
    "Let us load the modules that we use for this analysis"
   ]
  },
  {
   "cell_type": "code",
   "execution_count": 1,
   "metadata": {},
   "outputs": [],
   "source": [
    "import pandas as pd\n",
    "import numpy as np\n",
    "import networkx as nx\n",
    "import matplotlib.pyplot as plt\n",
    "%matplotlib inline\n",
    "from collections import Counter\n",
    "from itertools import groupby\n",
    "import random\n",
    "from tqdm import tqdm"
   ]
  },
  {
   "cell_type": "markdown",
   "metadata": {},
   "source": [
    "Reading the node and edge files"
   ]
  },
  {
   "cell_type": "code",
   "execution_count": 2,
   "metadata": {},
   "outputs": [],
   "source": [
    "edges = pd.read_csv('data/socfb-nips-ego.csv')"
   ]
  },
  {
   "cell_type": "code",
   "execution_count": 3,
   "metadata": {},
   "outputs": [
    {
     "data": {
      "text/plain": [
       "(2981, 2)"
      ]
     },
     "execution_count": 3,
     "metadata": {},
     "output_type": "execute_result"
    }
   ],
   "source": [
    "edges.shape"
   ]
  },
  {
   "cell_type": "code",
   "execution_count": 4,
   "metadata": {},
   "outputs": [
    {
     "data": {
      "text/html": [
       "<div>\n",
       "<style scoped>\n",
       "    .dataframe tbody tr th:only-of-type {\n",
       "        vertical-align: middle;\n",
       "    }\n",
       "\n",
       "    .dataframe tbody tr th {\n",
       "        vertical-align: top;\n",
       "    }\n",
       "\n",
       "    .dataframe thead th {\n",
       "        text-align: right;\n",
       "    }\n",
       "</style>\n",
       "<table border=\"1\" class=\"dataframe\">\n",
       "  <thead>\n",
       "    <tr style=\"text-align: right;\">\n",
       "      <th></th>\n",
       "      <th>From</th>\n",
       "      <th>To</th>\n",
       "    </tr>\n",
       "  </thead>\n",
       "  <tbody>\n",
       "    <tr>\n",
       "      <th>0</th>\n",
       "      <td>1</td>\n",
       "      <td>2</td>\n",
       "    </tr>\n",
       "    <tr>\n",
       "      <th>1</th>\n",
       "      <td>1</td>\n",
       "      <td>3</td>\n",
       "    </tr>\n",
       "    <tr>\n",
       "      <th>2</th>\n",
       "      <td>1</td>\n",
       "      <td>4</td>\n",
       "    </tr>\n",
       "    <tr>\n",
       "      <th>3</th>\n",
       "      <td>1</td>\n",
       "      <td>5</td>\n",
       "    </tr>\n",
       "    <tr>\n",
       "      <th>4</th>\n",
       "      <td>1</td>\n",
       "      <td>6</td>\n",
       "    </tr>\n",
       "  </tbody>\n",
       "</table>\n",
       "</div>"
      ],
      "text/plain": [
       "   From  To\n",
       "0     1   2\n",
       "1     1   3\n",
       "2     1   4\n",
       "3     1   5\n",
       "4     1   6"
      ]
     },
     "execution_count": 4,
     "metadata": {},
     "output_type": "execute_result"
    }
   ],
   "source": [
    "edges.head()"
   ]
  },
  {
   "cell_type": "code",
   "execution_count": 5,
   "metadata": {},
   "outputs": [
    {
     "data": {
      "text/plain": [
       "From    int64\n",
       "To      int64\n",
       "dtype: object"
      ]
     },
     "execution_count": 5,
     "metadata": {},
     "output_type": "execute_result"
    }
   ],
   "source": [
    "edges.dtypes"
   ]
  },
  {
   "cell_type": "markdown",
   "metadata": {},
   "source": [
    "Create a grpah object from the edge list"
   ]
  },
  {
   "cell_type": "code",
   "execution_count": 7,
   "metadata": {},
   "outputs": [],
   "source": [
    "snfb = nx.from_pandas_edgelist(df=edges, source='From', target='To')"
   ]
  },
  {
   "cell_type": "code",
   "execution_count": 8,
   "metadata": {},
   "outputs": [
    {
     "name": "stdout",
     "output_type": "stream",
     "text": [
      "Name: \n",
      "Type: Graph\n",
      "Number of nodes: 2888\n",
      "Number of edges: 2981\n",
      "Average degree:   2.0644\n"
     ]
    }
   ],
   "source": [
    "# Quick Snapshot of the network\n",
    "print(nx.info(snfb))"
   ]
  },
  {
   "cell_type": "markdown",
   "metadata": {},
   "source": [
    "Visualizing Graph might take some time"
   ]
  },
  {
   "cell_type": "code",
   "execution_count": 11,
   "metadata": {},
   "outputs": [
    {
     "data": {
      "image/png": "[encoded data removed]",
      "text/plain": [
       "<Figure size 432x288 with 1 Axes>"
      ]
     },
     "metadata": {},
     "output_type": "display_data"
    }
   ],
   "source": [
    "nx.draw_networkx(snfb, pos=nx.spring_layout(snfb), with_labels=False, node_size=5)"
   ]
  },
  {
   "cell_type": "markdown",
   "metadata": {},
   "source": [
    "As we can see, there are lot small subgraphs in this network. Let us just focus on teh largest connected component"
   ]
  },
  {
   "cell_type": "code",
   "execution_count": 12,
   "metadata": {},
   "outputs": [
    {
     "data": {
      "text/plain": [
       "[2888]"
      ]
     },
     "execution_count": 12,
     "metadata": {},
     "output_type": "execute_result"
    }
   ],
   "source": [
    "[len(c) for c in sorted(nx.connected_components(snfb), key=len, reverse=True)]"
   ]
  },
  {
   "cell_type": "code",
   "execution_count": 13,
   "metadata": {},
   "outputs": [
    {
     "data": {
      "image/png": "[encoded data removed]",
      "text/plain": [
       "<Figure size 432x288 with 1 Axes>"
      ]
     },
     "metadata": {},
     "output_type": "display_data"
    }
   ],
   "source": [
    "nx.draw_networkx(snfb, pos=nx.spring_layout(snfb), with_labels=False, node_size=20, node_color='r')"
   ]
  },
  {
   "cell_type": "markdown",
   "metadata": {},
   "source": [
    "Extract local node features for all the nodes present in largest connected graph"
   ]
  },
  {
   "cell_type": "code",
   "execution_count": 15,
   "metadata": {},
   "outputs": [],
   "source": [
    "g_features = pd.DataFrame({'Degree':nx.degree_centrality(snfb),\n",
    "                           'Closeness':nx.closeness_centrality(snfb),\n",
    "                           'Betweenness':nx.betweenness_centrality(snfb),\n",
    "                           'Eigenvector':nx.eigenvector_centrality_numpy(snfb),\n",
    "                           'Katz':nx.katz_centrality_numpy(snfb),\n",
    "                           'PageRank':nx.pagerank(snfb),\n",
    "                           'GlobalReaching':nx.global_reaching_centrality(snfb)\n",
    "})"
   ]
  },
  {
   "cell_type": "code",
   "execution_count": 16,
   "metadata": {},
   "outputs": [
    {
     "data": {
      "text/html": [
       "<div>\n",
       "<style scoped>\n",
       "    .dataframe tbody tr th:only-of-type {\n",
       "        vertical-align: middle;\n",
       "    }\n",
       "\n",
       "    .dataframe tbody tr th {\n",
       "        vertical-align: top;\n",
       "    }\n",
       "\n",
       "    .dataframe thead th {\n",
       "        text-align: right;\n",
       "    }\n",
       "</style>\n",
       "<table border=\"1\" class=\"dataframe\">\n",
       "  <thead>\n",
       "    <tr style=\"text-align: right;\">\n",
       "      <th></th>\n",
       "      <th>Degree</th>\n",
       "      <th>Closeness</th>\n",
       "      <th>Betweenness</th>\n",
       "      <th>Eigenvector</th>\n",
       "      <th>Katz</th>\n",
       "      <th>PageRank</th>\n",
       "      <th>GlobalReaching</th>\n",
       "    </tr>\n",
       "  </thead>\n",
       "  <tbody>\n",
       "    <tr>\n",
       "      <th>1</th>\n",
       "      <td>0.099411</td>\n",
       "      <td>0.345005</td>\n",
       "      <td>0.186097</td>\n",
       "      <td>0.008460</td>\n",
       "      <td>-0.029202</td>\n",
       "      <td>0.045075</td>\n",
       "      <td>0.235121</td>\n",
       "    </tr>\n",
       "    <tr>\n",
       "      <th>2</th>\n",
       "      <td>0.000346</td>\n",
       "      <td>0.256531</td>\n",
       "      <td>0.000000</td>\n",
       "      <td>0.000304</td>\n",
       "      <td>-0.000943</td>\n",
       "      <td>0.000186</td>\n",
       "      <td>0.235121</td>\n",
       "    </tr>\n",
       "    <tr>\n",
       "      <th>3</th>\n",
       "      <td>0.000346</td>\n",
       "      <td>0.256531</td>\n",
       "      <td>0.000000</td>\n",
       "      <td>0.000304</td>\n",
       "      <td>-0.000943</td>\n",
       "      <td>0.000186</td>\n",
       "      <td>0.235121</td>\n",
       "    </tr>\n",
       "    <tr>\n",
       "      <th>4</th>\n",
       "      <td>0.000346</td>\n",
       "      <td>0.256531</td>\n",
       "      <td>0.000000</td>\n",
       "      <td>0.000304</td>\n",
       "      <td>-0.000943</td>\n",
       "      <td>0.000186</td>\n",
       "      <td>0.235121</td>\n",
       "    </tr>\n",
       "    <tr>\n",
       "      <th>5</th>\n",
       "      <td>0.000346</td>\n",
       "      <td>0.256531</td>\n",
       "      <td>0.000000</td>\n",
       "      <td>0.000304</td>\n",
       "      <td>-0.000943</td>\n",
       "      <td>0.000186</td>\n",
       "      <td>0.235121</td>\n",
       "    </tr>\n",
       "  </tbody>\n",
       "</table>\n",
       "</div>"
      ],
      "text/plain": [
       "     Degree  Closeness  Betweenness  Eigenvector      Katz  PageRank  \\\n",
       "1  0.099411   0.345005     0.186097     0.008460 -0.029202  0.045075   \n",
       "2  0.000346   0.256531     0.000000     0.000304 -0.000943  0.000186   \n",
       "3  0.000346   0.256531     0.000000     0.000304 -0.000943  0.000186   \n",
       "4  0.000346   0.256531     0.000000     0.000304 -0.000943  0.000186   \n",
       "5  0.000346   0.256531     0.000000     0.000304 -0.000943  0.000186   \n",
       "\n",
       "   GlobalReaching  \n",
       "1        0.235121  \n",
       "2        0.235121  \n",
       "3        0.235121  \n",
       "4        0.235121  \n",
       "5        0.235121  "
      ]
     },
     "execution_count": 16,
     "metadata": {},
     "output_type": "execute_result"
    }
   ],
   "source": [
    "g_features.head()"
   ]
  },
  {
   "cell_type": "markdown",
   "metadata": {},
   "source": [
    "Let us look at the correlations between these local graph metrics"
   ]
  },
  {
   "cell_type": "code",
   "execution_count": 17,
   "metadata": {},
   "outputs": [
    {
     "data": {
      "text/html": [
       "<style  type=\"text/css\" >\n",
       "    #T_ecbe24e4_bbda_11ea_93b9_9cb6d0f9a970row0_col0 {\n",
       "            background-color:  #006837;\n",
       "            color:  #f1f1f1;\n",
       "        }    #T_ecbe24e4_bbda_11ea_93b9_9cb6d0f9a970row0_col1 {\n",
       "            background-color:  #fdaf62;\n",
       "            color:  #000000;\n",
       "        }    #T_ecbe24e4_bbda_11ea_93b9_9cb6d0f9a970row0_col2 {\n",
       "            background-color:  #118848;\n",
       "            color:  #000000;\n",
       "        }    #T_ecbe24e4_bbda_11ea_93b9_9cb6d0f9a970row0_col3 {\n",
       "            background-color:  #ebf7a3;\n",
       "            color:  #000000;\n",
       "        }    #T_ecbe24e4_bbda_11ea_93b9_9cb6d0f9a970row0_col4 {\n",
       "            background-color:  #f47044;\n",
       "            color:  #000000;\n",
       "        }    #T_ecbe24e4_bbda_11ea_93b9_9cb6d0f9a970row0_col5 {\n",
       "            background-color:  #006837;\n",
       "            color:  #f1f1f1;\n",
       "        }    #T_ecbe24e4_bbda_11ea_93b9_9cb6d0f9a970row0_col6 {\n",
       "            background-color:  #a50026;\n",
       "            color:  #f1f1f1;\n",
       "        }    #T_ecbe24e4_bbda_11ea_93b9_9cb6d0f9a970row1_col0 {\n",
       "            background-color:  #dd3d2d;\n",
       "            color:  #f1f1f1;\n",
       "        }    #T_ecbe24e4_bbda_11ea_93b9_9cb6d0f9a970row1_col1 {\n",
       "            background-color:  #006837;\n",
       "            color:  #f1f1f1;\n",
       "        }    #T_ecbe24e4_bbda_11ea_93b9_9cb6d0f9a970row1_col2 {\n",
       "            background-color:  #e65036;\n",
       "            color:  #000000;\n",
       "        }    #T_ecbe24e4_bbda_11ea_93b9_9cb6d0f9a970row1_col3 {\n",
       "            background-color:  #feea9b;\n",
       "            color:  #000000;\n",
       "        }    #T_ecbe24e4_bbda_11ea_93b9_9cb6d0f9a970row1_col4 {\n",
       "            background-color:  #a50026;\n",
       "            color:  #f1f1f1;\n",
       "        }    #T_ecbe24e4_bbda_11ea_93b9_9cb6d0f9a970row1_col5 {\n",
       "            background-color:  #dc3b2c;\n",
       "            color:  #f1f1f1;\n",
       "        }    #T_ecbe24e4_bbda_11ea_93b9_9cb6d0f9a970row1_col6 {\n",
       "            background-color:  #a50026;\n",
       "            color:  #f1f1f1;\n",
       "        }    #T_ecbe24e4_bbda_11ea_93b9_9cb6d0f9a970row2_col0 {\n",
       "            background-color:  #118848;\n",
       "            color:  #000000;\n",
       "        }    #T_ecbe24e4_bbda_11ea_93b9_9cb6d0f9a970row2_col1 {\n",
       "            background-color:  #fdb96a;\n",
       "            color:  #000000;\n",
       "        }    #T_ecbe24e4_bbda_11ea_93b9_9cb6d0f9a970row2_col2 {\n",
       "            background-color:  #006837;\n",
       "            color:  #f1f1f1;\n",
       "        }    #T_ecbe24e4_bbda_11ea_93b9_9cb6d0f9a970row2_col3 {\n",
       "            background-color:  #f1f9ac;\n",
       "            color:  #000000;\n",
       "        }    #T_ecbe24e4_bbda_11ea_93b9_9cb6d0f9a970row2_col4 {\n",
       "            background-color:  #f46d43;\n",
       "            color:  #000000;\n",
       "        }    #T_ecbe24e4_bbda_11ea_93b9_9cb6d0f9a970row2_col5 {\n",
       "            background-color:  #128a49;\n",
       "            color:  #000000;\n",
       "        }    #T_ecbe24e4_bbda_11ea_93b9_9cb6d0f9a970row2_col6 {\n",
       "            background-color:  #a50026;\n",
       "            color:  #f1f1f1;\n",
       "        }    #T_ecbe24e4_bbda_11ea_93b9_9cb6d0f9a970row3_col0 {\n",
       "            background-color:  #f8fcb6;\n",
       "            color:  #000000;\n",
       "        }    #T_ecbe24e4_bbda_11ea_93b9_9cb6d0f9a970row3_col1 {\n",
       "            background-color:  #fafdb8;\n",
       "            color:  #000000;\n",
       "        }    #T_ecbe24e4_bbda_11ea_93b9_9cb6d0f9a970row3_col2 {\n",
       "            background-color:  #fdfebc;\n",
       "            color:  #000000;\n",
       "        }    #T_ecbe24e4_bbda_11ea_93b9_9cb6d0f9a970row3_col3 {\n",
       "            background-color:  #006837;\n",
       "            color:  #f1f1f1;\n",
       "        }    #T_ecbe24e4_bbda_11ea_93b9_9cb6d0f9a970row3_col4 {\n",
       "            background-color:  #e44c34;\n",
       "            color:  #000000;\n",
       "        }    #T_ecbe24e4_bbda_11ea_93b9_9cb6d0f9a970row3_col5 {\n",
       "            background-color:  #f7fcb4;\n",
       "            color:  #000000;\n",
       "        }    #T_ecbe24e4_bbda_11ea_93b9_9cb6d0f9a970row3_col6 {\n",
       "            background-color:  #a50026;\n",
       "            color:  #f1f1f1;\n",
       "        }    #T_ecbe24e4_bbda_11ea_93b9_9cb6d0f9a970row4_col0 {\n",
       "            background-color:  #a50026;\n",
       "            color:  #f1f1f1;\n",
       "        }    #T_ecbe24e4_bbda_11ea_93b9_9cb6d0f9a970row4_col1 {\n",
       "            background-color:  #a50026;\n",
       "            color:  #f1f1f1;\n",
       "        }    #T_ecbe24e4_bbda_11ea_93b9_9cb6d0f9a970row4_col2 {\n",
       "            background-color:  #a50026;\n",
       "            color:  #f1f1f1;\n",
       "        }    #T_ecbe24e4_bbda_11ea_93b9_9cb6d0f9a970row4_col3 {\n",
       "            background-color:  #a50026;\n",
       "            color:  #f1f1f1;\n",
       "        }    #T_ecbe24e4_bbda_11ea_93b9_9cb6d0f9a970row4_col4 {\n",
       "            background-color:  #006837;\n",
       "            color:  #f1f1f1;\n",
       "        }    #T_ecbe24e4_bbda_11ea_93b9_9cb6d0f9a970row4_col5 {\n",
       "            background-color:  #a50026;\n",
       "            color:  #f1f1f1;\n",
       "        }    #T_ecbe24e4_bbda_11ea_93b9_9cb6d0f9a970row4_col6 {\n",
       "            background-color:  #a50026;\n",
       "            color:  #f1f1f1;\n",
       "        }    #T_ecbe24e4_bbda_11ea_93b9_9cb6d0f9a970row5_col0 {\n",
       "            background-color:  #006837;\n",
       "            color:  #f1f1f1;\n",
       "        }    #T_ecbe24e4_bbda_11ea_93b9_9cb6d0f9a970row5_col1 {\n",
       "            background-color:  #fdaf62;\n",
       "            color:  #000000;\n",
       "        }    #T_ecbe24e4_bbda_11ea_93b9_9cb6d0f9a970row5_col2 {\n",
       "            background-color:  #128a49;\n",
       "            color:  #000000;\n",
       "        }    #T_ecbe24e4_bbda_11ea_93b9_9cb6d0f9a970row5_col3 {\n",
       "            background-color:  #e9f6a1;\n",
       "            color:  #000000;\n",
       "        }    #T_ecbe24e4_bbda_11ea_93b9_9cb6d0f9a970row5_col4 {\n",
       "            background-color:  #f47044;\n",
       "            color:  #000000;\n",
       "        }    #T_ecbe24e4_bbda_11ea_93b9_9cb6d0f9a970row5_col5 {\n",
       "            background-color:  #006837;\n",
       "            color:  #f1f1f1;\n",
       "        }    #T_ecbe24e4_bbda_11ea_93b9_9cb6d0f9a970row5_col6 {\n",
       "            background-color:  #a50026;\n",
       "            color:  #f1f1f1;\n",
       "        }    #T_ecbe24e4_bbda_11ea_93b9_9cb6d0f9a970row6_col0 {\n",
       "            background-color:  #a70226;\n",
       "            color:  #f1f1f1;\n",
       "        }    #T_ecbe24e4_bbda_11ea_93b9_9cb6d0f9a970row6_col1 {\n",
       "            background-color:  #f57245;\n",
       "            color:  #000000;\n",
       "        }    #T_ecbe24e4_bbda_11ea_93b9_9cb6d0f9a970row6_col2 {\n",
       "            background-color:  #a90426;\n",
       "            color:  #f1f1f1;\n",
       "        }    #T_ecbe24e4_bbda_11ea_93b9_9cb6d0f9a970row6_col3 {\n",
       "            background-color:  #c82227;\n",
       "            color:  #f1f1f1;\n",
       "        }    #T_ecbe24e4_bbda_11ea_93b9_9cb6d0f9a970row6_col4 {\n",
       "            background-color:  #f57245;\n",
       "            color:  #000000;\n",
       "        }    #T_ecbe24e4_bbda_11ea_93b9_9cb6d0f9a970row6_col5 {\n",
       "            background-color:  #a70226;\n",
       "            color:  #f1f1f1;\n",
       "        }    #T_ecbe24e4_bbda_11ea_93b9_9cb6d0f9a970row6_col6 {\n",
       "            background-color:  #006837;\n",
       "            color:  #f1f1f1;\n",
       "        }</style><table id=\"T_ecbe24e4_bbda_11ea_93b9_9cb6d0f9a970\" ><thead>    <tr>        <th class=\"blank level0\" ></th>        <th class=\"col_heading level0 col0\" >Degree</th>        <th class=\"col_heading level0 col1\" >Closeness</th>        <th class=\"col_heading level0 col2\" >Betweenness</th>        <th class=\"col_heading level0 col3\" >Eigenvector</th>        <th class=\"col_heading level0 col4\" >Katz</th>        <th class=\"col_heading level0 col5\" >PageRank</th>        <th class=\"col_heading level0 col6\" >GlobalReaching</th>    </tr></thead><tbody>\n",
       "                <tr>\n",
       "                        <th id=\"T_ecbe24e4_bbda_11ea_93b9_9cb6d0f9a970level0_row0\" class=\"row_heading level0 row0\" >Degree</th>\n",
       "                        <td id=\"T_ecbe24e4_bbda_11ea_93b9_9cb6d0f9a970row0_col0\" class=\"data row0 col0\" >1.00</td>\n",
       "                        <td id=\"T_ecbe24e4_bbda_11ea_93b9_9cb6d0f9a970row0_col1\" class=\"data row0 col1\" >0.12</td>\n",
       "                        <td id=\"T_ecbe24e4_bbda_11ea_93b9_9cb6d0f9a970row0_col2\" class=\"data row0 col2\" >0.93</td>\n",
       "                        <td id=\"T_ecbe24e4_bbda_11ea_93b9_9cb6d0f9a970row0_col3\" class=\"data row0 col3\" >0.52</td>\n",
       "                        <td id=\"T_ecbe24e4_bbda_11ea_93b9_9cb6d0f9a970row0_col4\" class=\"data row0 col4\" >-0.01</td>\n",
       "                        <td id=\"T_ecbe24e4_bbda_11ea_93b9_9cb6d0f9a970row0_col5\" class=\"data row0 col5\" >1.00</td>\n",
       "                        <td id=\"T_ecbe24e4_bbda_11ea_93b9_9cb6d0f9a970row0_col6\" class=\"data row0 col6\" >-0.00</td>\n",
       "            </tr>\n",
       "            <tr>\n",
       "                        <th id=\"T_ecbe24e4_bbda_11ea_93b9_9cb6d0f9a970level0_row1\" class=\"row_heading level0 row1\" >Closeness</th>\n",
       "                        <td id=\"T_ecbe24e4_bbda_11ea_93b9_9cb6d0f9a970row1_col0\" class=\"data row1 col0\" >0.12</td>\n",
       "                        <td id=\"T_ecbe24e4_bbda_11ea_93b9_9cb6d0f9a970row1_col1\" class=\"data row1 col1\" >1.00</td>\n",
       "                        <td id=\"T_ecbe24e4_bbda_11ea_93b9_9cb6d0f9a970row1_col2\" class=\"data row1 col2\" >0.14</td>\n",
       "                        <td id=\"T_ecbe24e4_bbda_11ea_93b9_9cb6d0f9a970row1_col3\" class=\"data row1 col3\" >0.38</td>\n",
       "                        <td id=\"T_ecbe24e4_bbda_11ea_93b9_9cb6d0f9a970row1_col4\" class=\"data row1 col4\" >-0.27</td>\n",
       "                        <td id=\"T_ecbe24e4_bbda_11ea_93b9_9cb6d0f9a970row1_col5\" class=\"data row1 col5\" >0.12</td>\n",
       "                        <td id=\"T_ecbe24e4_bbda_11ea_93b9_9cb6d0f9a970row1_col6\" class=\"data row1 col6\" >-0.00</td>\n",
       "            </tr>\n",
       "            <tr>\n",
       "                        <th id=\"T_ecbe24e4_bbda_11ea_93b9_9cb6d0f9a970level0_row2\" class=\"row_heading level0 row2\" >Betweenness</th>\n",
       "                        <td id=\"T_ecbe24e4_bbda_11ea_93b9_9cb6d0f9a970row2_col0\" class=\"data row2 col0\" >0.93</td>\n",
       "                        <td id=\"T_ecbe24e4_bbda_11ea_93b9_9cb6d0f9a970row2_col1\" class=\"data row2 col1\" >0.14</td>\n",
       "                        <td id=\"T_ecbe24e4_bbda_11ea_93b9_9cb6d0f9a970row2_col2\" class=\"data row2 col2\" >1.00</td>\n",
       "                        <td id=\"T_ecbe24e4_bbda_11ea_93b9_9cb6d0f9a970row2_col3\" class=\"data row2 col3\" >0.50</td>\n",
       "                        <td id=\"T_ecbe24e4_bbda_11ea_93b9_9cb6d0f9a970row2_col4\" class=\"data row2 col4\" >-0.01</td>\n",
       "                        <td id=\"T_ecbe24e4_bbda_11ea_93b9_9cb6d0f9a970row2_col5\" class=\"data row2 col5\" >0.93</td>\n",
       "                        <td id=\"T_ecbe24e4_bbda_11ea_93b9_9cb6d0f9a970row2_col6\" class=\"data row2 col6\" >-0.00</td>\n",
       "            </tr>\n",
       "            <tr>\n",
       "                        <th id=\"T_ecbe24e4_bbda_11ea_93b9_9cb6d0f9a970level0_row3\" class=\"row_heading level0 row3\" >Eigenvector</th>\n",
       "                        <td id=\"T_ecbe24e4_bbda_11ea_93b9_9cb6d0f9a970row3_col0\" class=\"data row3 col0\" >0.52</td>\n",
       "                        <td id=\"T_ecbe24e4_bbda_11ea_93b9_9cb6d0f9a970row3_col1\" class=\"data row3 col1\" >0.38</td>\n",
       "                        <td id=\"T_ecbe24e4_bbda_11ea_93b9_9cb6d0f9a970row3_col2\" class=\"data row3 col2\" >0.50</td>\n",
       "                        <td id=\"T_ecbe24e4_bbda_11ea_93b9_9cb6d0f9a970row3_col3\" class=\"data row3 col3\" >1.00</td>\n",
       "                        <td id=\"T_ecbe24e4_bbda_11ea_93b9_9cb6d0f9a970row3_col4\" class=\"data row3 col4\" >-0.08</td>\n",
       "                        <td id=\"T_ecbe24e4_bbda_11ea_93b9_9cb6d0f9a970row3_col5\" class=\"data row3 col5\" >0.52</td>\n",
       "                        <td id=\"T_ecbe24e4_bbda_11ea_93b9_9cb6d0f9a970row3_col6\" class=\"data row3 col6\" >0.00</td>\n",
       "            </tr>\n",
       "            <tr>\n",
       "                        <th id=\"T_ecbe24e4_bbda_11ea_93b9_9cb6d0f9a970level0_row4\" class=\"row_heading level0 row4\" >Katz</th>\n",
       "                        <td id=\"T_ecbe24e4_bbda_11ea_93b9_9cb6d0f9a970row4_col0\" class=\"data row4 col0\" >-0.01</td>\n",
       "                        <td id=\"T_ecbe24e4_bbda_11ea_93b9_9cb6d0f9a970row4_col1\" class=\"data row4 col1\" >-0.27</td>\n",
       "                        <td id=\"T_ecbe24e4_bbda_11ea_93b9_9cb6d0f9a970row4_col2\" class=\"data row4 col2\" >-0.01</td>\n",
       "                        <td id=\"T_ecbe24e4_bbda_11ea_93b9_9cb6d0f9a970row4_col3\" class=\"data row4 col3\" >-0.08</td>\n",
       "                        <td id=\"T_ecbe24e4_bbda_11ea_93b9_9cb6d0f9a970row4_col4\" class=\"data row4 col4\" >1.00</td>\n",
       "                        <td id=\"T_ecbe24e4_bbda_11ea_93b9_9cb6d0f9a970row4_col5\" class=\"data row4 col5\" >-0.00</td>\n",
       "                        <td id=\"T_ecbe24e4_bbda_11ea_93b9_9cb6d0f9a970row4_col6\" class=\"data row4 col6\" >0.00</td>\n",
       "            </tr>\n",
       "            <tr>\n",
       "                        <th id=\"T_ecbe24e4_bbda_11ea_93b9_9cb6d0f9a970level0_row5\" class=\"row_heading level0 row5\" >PageRank</th>\n",
       "                        <td id=\"T_ecbe24e4_bbda_11ea_93b9_9cb6d0f9a970row5_col0\" class=\"data row5 col0\" >1.00</td>\n",
       "                        <td id=\"T_ecbe24e4_bbda_11ea_93b9_9cb6d0f9a970row5_col1\" class=\"data row5 col1\" >0.12</td>\n",
       "                        <td id=\"T_ecbe24e4_bbda_11ea_93b9_9cb6d0f9a970row5_col2\" class=\"data row5 col2\" >0.93</td>\n",
       "                        <td id=\"T_ecbe24e4_bbda_11ea_93b9_9cb6d0f9a970row5_col3\" class=\"data row5 col3\" >0.52</td>\n",
       "                        <td id=\"T_ecbe24e4_bbda_11ea_93b9_9cb6d0f9a970row5_col4\" class=\"data row5 col4\" >-0.00</td>\n",
       "                        <td id=\"T_ecbe24e4_bbda_11ea_93b9_9cb6d0f9a970row5_col5\" class=\"data row5 col5\" >1.00</td>\n",
       "                        <td id=\"T_ecbe24e4_bbda_11ea_93b9_9cb6d0f9a970row5_col6\" class=\"data row5 col6\" >-0.00</td>\n",
       "            </tr>\n",
       "            <tr>\n",
       "                        <th id=\"T_ecbe24e4_bbda_11ea_93b9_9cb6d0f9a970level0_row6\" class=\"row_heading level0 row6\" >GlobalReaching</th>\n",
       "                        <td id=\"T_ecbe24e4_bbda_11ea_93b9_9cb6d0f9a970row6_col0\" class=\"data row6 col0\" >-0.00</td>\n",
       "                        <td id=\"T_ecbe24e4_bbda_11ea_93b9_9cb6d0f9a970row6_col1\" class=\"data row6 col1\" >-0.00</td>\n",
       "                        <td id=\"T_ecbe24e4_bbda_11ea_93b9_9cb6d0f9a970row6_col2\" class=\"data row6 col2\" >-0.00</td>\n",
       "                        <td id=\"T_ecbe24e4_bbda_11ea_93b9_9cb6d0f9a970row6_col3\" class=\"data row6 col3\" >0.00</td>\n",
       "                        <td id=\"T_ecbe24e4_bbda_11ea_93b9_9cb6d0f9a970row6_col4\" class=\"data row6 col4\" >0.00</td>\n",
       "                        <td id=\"T_ecbe24e4_bbda_11ea_93b9_9cb6d0f9a970row6_col5\" class=\"data row6 col5\" >-0.00</td>\n",
       "                        <td id=\"T_ecbe24e4_bbda_11ea_93b9_9cb6d0f9a970row6_col6\" class=\"data row6 col6\" >1.00</td>\n",
       "            </tr>\n",
       "    </tbody></table>"
      ],
      "text/plain": [
       "<pandas.io.formats.style.Styler at 0x1da105c4bc8>"
      ]
     },
     "execution_count": 17,
     "metadata": {},
     "output_type": "execute_result"
    }
   ],
   "source": [
    "corr = g_features.corr()\n",
    "corr.style.background_gradient(cmap='RdYlGn').set_precision(2)"
   ]
  },
  {
   "cell_type": "markdown",
   "metadata": {},
   "source": [
    "We will apply an anomaly detection technique called IsolationForest to identify anomalous communication behavior based on local graph metrics"
   ]
  },
  {
   "cell_type": "code",
   "execution_count": 18,
   "metadata": {},
   "outputs": [
    {
     "name": "stderr",
     "output_type": "stream",
     "text": [
      "C:\\ProgramData\\Anaconda3\\lib\\site-packages\\sklearn\\ensemble\\_iforest.py:248: FutureWarning: 'behaviour' is deprecated in 0.22 and will be removed in 0.24. You should not pass or set this parameter.\n",
      "  FutureWarning\n",
      "[Parallel(n_jobs=6)]: Using backend ThreadingBackend with 6 concurrent workers.\n",
      "[Parallel(n_jobs=6)]: Done   2 out of   6 | elapsed:    1.0s remaining:    2.2s\n",
      "[Parallel(n_jobs=6)]: Done   6 out of   6 | elapsed:    1.1s finished\n"
     ]
    },
    {
     "data": {
      "text/plain": [
       "IsolationForest(behaviour='new', bootstrap=False, contamination=0.1,\n",
       "                max_features=1.0, max_samples='auto', n_estimators=1000,\n",
       "                n_jobs=-1, random_state=2020, verbose=1, warm_start=False)"
      ]
     },
     "execution_count": 18,
     "metadata": {},
     "output_type": "execute_result"
    }
   ],
   "source": [
    "from sklearn.ensemble import IsolationForest\n",
    "isof = IsolationForest(n_estimators=1000, max_samples='auto', contamination=0.1, \n",
    "                      max_features=1.0, bootstrap=False, n_jobs=-1,\n",
    "                      random_state=2020, verbose=1, behaviour='new')\n",
    "isof.fit(g_features)"
   ]
  },
  {
   "cell_type": "code",
   "execution_count": 19,
   "metadata": {},
   "outputs": [],
   "source": [
    "anomaly_score = isof.decision_function(g_features)\n",
    "anomaly_score_new = np.interp(anomaly_score, (np.min(anomaly_score), np.max(anomaly_score)), (0,1))"
   ]
  },
  {
   "cell_type": "code",
   "execution_count": 20,
   "metadata": {},
   "outputs": [],
   "source": [
    "g_features['anomaly_score_new'] = anomaly_score_new"
   ]
  },
  {
   "cell_type": "code",
   "execution_count": 21,
   "metadata": {},
   "outputs": [
    {
     "data": {
      "text/plain": [
       "<matplotlib.axes._subplots.AxesSubplot at 0x1da019f7c48>"
      ]
     },
     "execution_count": 21,
     "metadata": {},
     "output_type": "execute_result"
    },
    {
     "data": {
      "image/png": "[encoded data removed]",
      "text/plain": [
       "<Figure size 432x288 with 2 Axes>"
      ]
     },
     "metadata": {
      "needs_background": "light"
     },
     "output_type": "display_data"
    }
   ],
   "source": [
    "g_features.plot.scatter(x='Betweenness',\n",
    "                       y='Closeness',\n",
    "                       c='anomaly_score_new',\n",
    "                       colormap='viridis')"
   ]
  },
  {
   "cell_type": "markdown",
   "metadata": {},
   "source": [
    "From the above scatter plot, we cann see all teh darker points are anomalies based on Betweenness Centrality and Closeness Centrality"
   ]
  },
  {
   "cell_type": "code",
   "execution_count": 22,
   "metadata": {},
   "outputs": [],
   "source": [
    "g_features = g_features.sort_values(by='anomaly_score_new', ascending=True)"
   ]
  },
  {
   "cell_type": "code",
   "execution_count": 23,
   "metadata": {},
   "outputs": [
    {
     "data": {
      "text/plain": [
       "75"
      ]
     },
     "execution_count": 23,
     "metadata": {},
     "output_type": "execute_result"
    }
   ],
   "source": [
    "import gc\n",
    "gc.collect()"
   ]
  },
  {
   "cell_type": "code",
   "execution_count": 26,
   "metadata": {},
   "outputs": [],
   "source": [
    "color_map = []\n",
    "for node in snfb:\n",
    "    if node in g_features.index[-5:]:\n",
    "        color_map.append('red')\n",
    "    else: color_map.append('green')"
   ]
  },
  {
   "cell_type": "code",
   "execution_count": 27,
   "metadata": {},
   "outputs": [],
   "source": [
    "size_map = []\n",
    "for node in snfb:\n",
    "    if node in g_features.index[-5:]:\n",
    "        size_map.append(200)\n",
    "    else: size_map.append(100) \n",
    "    "
   ]
  },
  {
   "cell_type": "markdown",
   "metadata": {},
   "source": [
    "Top 10 anomalies absed on all the local metrics that we calculated"
   ]
  },
  {
   "cell_type": "code",
   "execution_count": 28,
   "metadata": {},
   "outputs": [
    {
     "data": {
      "text/html": [
       "<div>\n",
       "<style scoped>\n",
       "    .dataframe tbody tr th:only-of-type {\n",
       "        vertical-align: middle;\n",
       "    }\n",
       "\n",
       "    .dataframe tbody tr th {\n",
       "        vertical-align: top;\n",
       "    }\n",
       "\n",
       "    .dataframe thead th {\n",
       "        text-align: right;\n",
       "    }\n",
       "</style>\n",
       "<table border=\"1\" class=\"dataframe\">\n",
       "  <thead>\n",
       "    <tr style=\"text-align: right;\">\n",
       "      <th></th>\n",
       "      <th>Degree</th>\n",
       "      <th>Closeness</th>\n",
       "      <th>Betweenness</th>\n",
       "      <th>Eigenvector</th>\n",
       "      <th>Katz</th>\n",
       "      <th>PageRank</th>\n",
       "      <th>GlobalReaching</th>\n",
       "      <th>anomaly_score_new</th>\n",
       "    </tr>\n",
       "  </thead>\n",
       "  <tbody>\n",
       "    <tr>\n",
       "      <th>603</th>\n",
       "      <td>0.266366</td>\n",
       "      <td>0.411899</td>\n",
       "      <td>0.549707</td>\n",
       "      <td>0.702482</td>\n",
       "      <td>-0.022221</td>\n",
       "      <td>0.121193</td>\n",
       "      <td>0.235121</td>\n",
       "      <td>0.000000</td>\n",
       "    </tr>\n",
       "    <tr>\n",
       "      <th>288</th>\n",
       "      <td>0.166609</td>\n",
       "      <td>0.427071</td>\n",
       "      <td>0.466130</td>\n",
       "      <td>0.092219</td>\n",
       "      <td>-0.022392</td>\n",
       "      <td>0.074106</td>\n",
       "      <td>0.235121</td>\n",
       "      <td>0.013994</td>\n",
       "    </tr>\n",
       "    <tr>\n",
       "      <th>1525</th>\n",
       "      <td>0.245930</td>\n",
       "      <td>0.356684</td>\n",
       "      <td>0.429445</td>\n",
       "      <td>0.016210</td>\n",
       "      <td>-0.022881</td>\n",
       "      <td>0.112474</td>\n",
       "      <td>0.235121</td>\n",
       "      <td>0.023546</td>\n",
       "    </tr>\n",
       "    <tr>\n",
       "      <th>1</th>\n",
       "      <td>0.099411</td>\n",
       "      <td>0.345005</td>\n",
       "      <td>0.186097</td>\n",
       "      <td>0.008460</td>\n",
       "      <td>-0.029202</td>\n",
       "      <td>0.045075</td>\n",
       "      <td>0.235121</td>\n",
       "      <td>0.048307</td>\n",
       "    </tr>\n",
       "    <tr>\n",
       "      <th>710</th>\n",
       "      <td>0.076550</td>\n",
       "      <td>0.345418</td>\n",
       "      <td>0.127247</td>\n",
       "      <td>0.006952</td>\n",
       "      <td>-0.009795</td>\n",
       "      <td>0.031053</td>\n",
       "      <td>0.235121</td>\n",
       "      <td>0.070243</td>\n",
       "    </tr>\n",
       "    <tr>\n",
       "      <th>714</th>\n",
       "      <td>0.048147</td>\n",
       "      <td>0.344429</td>\n",
       "      <td>0.112768</td>\n",
       "      <td>0.005729</td>\n",
       "      <td>-0.053892</td>\n",
       "      <td>0.018858</td>\n",
       "      <td>0.235121</td>\n",
       "      <td>0.076022</td>\n",
       "    </tr>\n",
       "    <tr>\n",
       "      <th>2687</th>\n",
       "      <td>0.058885</td>\n",
       "      <td>0.198487</td>\n",
       "      <td>0.099288</td>\n",
       "      <td>0.000081</td>\n",
       "      <td>-0.048247</td>\n",
       "      <td>0.024981</td>\n",
       "      <td>0.235121</td>\n",
       "      <td>0.093893</td>\n",
       "    </tr>\n",
       "    <tr>\n",
       "      <th>247</th>\n",
       "      <td>0.001386</td>\n",
       "      <td>0.413255</td>\n",
       "      <td>0.241242</td>\n",
       "      <td>0.029471</td>\n",
       "      <td>-0.007693</td>\n",
       "      <td>0.000587</td>\n",
       "      <td>0.235121</td>\n",
       "      <td>0.120956</td>\n",
       "    </tr>\n",
       "    <tr>\n",
       "      <th>2232</th>\n",
       "      <td>0.033599</td>\n",
       "      <td>0.237691</td>\n",
       "      <td>0.065410</td>\n",
       "      <td>0.000136</td>\n",
       "      <td>0.697590</td>\n",
       "      <td>0.015509</td>\n",
       "      <td>0.235121</td>\n",
       "      <td>0.135560</td>\n",
       "    </tr>\n",
       "    <tr>\n",
       "      <th>716</th>\n",
       "      <td>0.001386</td>\n",
       "      <td>0.366929</td>\n",
       "      <td>0.063049</td>\n",
       "      <td>0.004356</td>\n",
       "      <td>-0.008919</td>\n",
       "      <td>0.000554</td>\n",
       "      <td>0.235121</td>\n",
       "      <td>0.156625</td>\n",
       "    </tr>\n",
       "  </tbody>\n",
       "</table>\n",
       "</div>"
      ],
      "text/plain": [
       "        Degree  Closeness  Betweenness  Eigenvector      Katz  PageRank  \\\n",
       "603   0.266366   0.411899     0.549707     0.702482 -0.022221  0.121193   \n",
       "288   0.166609   0.427071     0.466130     0.092219 -0.022392  0.074106   \n",
       "1525  0.245930   0.356684     0.429445     0.016210 -0.022881  0.112474   \n",
       "1     0.099411   0.345005     0.186097     0.008460 -0.029202  0.045075   \n",
       "710   0.076550   0.345418     0.127247     0.006952 -0.009795  0.031053   \n",
       "714   0.048147   0.344429     0.112768     0.005729 -0.053892  0.018858   \n",
       "2687  0.058885   0.198487     0.099288     0.000081 -0.048247  0.024981   \n",
       "247   0.001386   0.413255     0.241242     0.029471 -0.007693  0.000587   \n",
       "2232  0.033599   0.237691     0.065410     0.000136  0.697590  0.015509   \n",
       "716   0.001386   0.366929     0.063049     0.004356 -0.008919  0.000554   \n",
       "\n",
       "      GlobalReaching  anomaly_score_new  \n",
       "603         0.235121           0.000000  \n",
       "288         0.235121           0.013994  \n",
       "1525        0.235121           0.023546  \n",
       "1           0.235121           0.048307  \n",
       "710         0.235121           0.070243  \n",
       "714         0.235121           0.076022  \n",
       "2687        0.235121           0.093893  \n",
       "247         0.235121           0.120956  \n",
       "2232        0.235121           0.135560  \n",
       "716         0.235121           0.156625  "
      ]
     },
     "execution_count": 28,
     "metadata": {},
     "output_type": "execute_result"
    }
   ],
   "source": [
    "g_features.head(10)"
   ]
  },
  {
   "cell_type": "code",
   "execution_count": 29,
   "metadata": {},
   "outputs": [
    {
     "data": {
      "image/png": "[encoded data removed]",
      "text/plain": [
       "<Figure size 432x288 with 1 Axes>"
      ]
     },
     "metadata": {},
     "output_type": "display_data"
    }
   ],
   "source": [
    "pos=nx.kamada_kawai_layout(snfb)\n",
    "nx.draw(snfb, node_color = color_map, node_size=size_map, pos = pos, with_labels = False)"
   ]
  },
  {
   "cell_type": "markdown",
   "metadata": {},
   "source": [
    "We can not really visualize those nodes that are anomalous"
   ]
  },
  {
   "cell_type": "markdown",
   "metadata": {},
   "source": [
    "These are top 10 anomalous communicators based on our analysis"
   ]
  },
  {
   "cell_type": "markdown",
   "metadata": {},
   "source": [
    "Let us detect communities based on the similar patterns in emails"
   ]
  },
  {
   "cell_type": "code",
   "execution_count": 34,
   "metadata": {},
   "outputs": [],
   "source": [
    "from community import community_louvain\n",
    "parts = community_louvain.best_partition(snfb)\n",
    "values = [parts.get(node) for node in snfb.nodes()]"
   ]
  },
  {
   "cell_type": "code",
   "execution_count": 35,
   "metadata": {},
   "outputs": [
    {
     "data": {
      "image/png": "[encoded data removed]",
      "text/plain": [
       "<Figure size 432x288 with 1 Axes>"
      ]
     },
     "metadata": {},
     "output_type": "display_data"
    }
   ],
   "source": [
    "plt.axis(\"off\")\n",
    "spring_pos=nx.spring_layout(snfb)\n",
    "nx.draw_networkx(snfb, pos = spring_pos, cmap = plt.get_cmap(\"jet\"), node_color = values, node_size = 35, with_labels = False)"
   ]
  },
  {
   "cell_type": "code",
   "execution_count": 37,
   "metadata": {},
   "outputs": [],
   "source": [
    "same_neighbors = lambda u, v: (u not in snfb[v] and v not in snfb[u] and snfb[u] == snfb[v])\n",
    "qsnfb = nx.quotient_graph(snfb, same_neighbors)"
   ]
  },
  {
   "cell_type": "code",
   "execution_count": 77,
   "metadata": {},
   "outputs": [
    {
     "name": "stdout",
     "output_type": "stream",
     "text": [
      "Name: \n",
      "Type: Graph\n",
      "Number of nodes: 35\n",
      "Number of edges: 52\n",
      "Average degree:   2.9714\n"
     ]
    }
   ],
   "source": [
    "print(nx.info(qsnfb))"
   ]
  },
  {
   "cell_type": "code",
   "execution_count": 38,
   "metadata": {},
   "outputs": [],
   "source": [
    "from community import community_louvain\n",
    "parts = community_louvain.best_partition(qsnfb)\n",
    "values = [parts.get(node) for node in qsnfb.nodes()]"
   ]
  },
  {
   "cell_type": "code",
   "execution_count": 57,
   "metadata": {},
   "outputs": [
    {
     "data": {
      "image/png": "[encoded data removed]",
      "text/plain": [
       "<Figure size 432x288 with 1 Axes>"
      ]
     },
     "metadata": {},
     "output_type": "display_data"
    }
   ],
   "source": [
    "plt.axis(\"off\")\n",
    "spring_pos=nx.spring_layout(qsnfb)\n",
    "nx.draw_networkx(qsnfb, pos = spring_pos, cmap = plt.get_cmap(\"jet\"), node_color = values, node_size = 35, with_labels = False)"
   ]
  },
  {
   "cell_type": "code",
   "execution_count": 72,
   "metadata": {},
   "outputs": [],
   "source": [
    "from pyvis.network import Network\n",
    "net = Network(\"1000px\", \"1000px\", notebook=True)"
   ]
  },
  {
   "cell_type": "code",
   "execution_count": 78,
   "metadata": {},
   "outputs": [],
   "source": [
    "net.from_nx(snfb)\n",
    "# net.show_buttons(filter_=['physics'])"
   ]
  },
  {
   "cell_type": "code",
   "execution_count": 79,
   "metadata": {},
   "outputs": [
    {
     "data": {
      "text/html": [
       "\n",
       "        <iframe\n",
       "            width=\"1000px\"\n",
       "            height=\"1000px\"\n",
       "            src=\"snfb.html\"\n",
       "            frameborder=\"0\"\n",
       "            allowfullscreen\n",
       "        ></iframe>\n",
       "        "
      ],
      "text/plain": [
       "<IPython.lib.display.IFrame at 0x1da0345d608>"
      ]
     },
     "execution_count": 79,
     "metadata": {},
     "output_type": "execute_result"
    }
   ],
   "source": [
    "net.show('snfb.html')"
   ]
  },
  {
   "cell_type": "code",
   "execution_count": null,
   "metadata": {},
   "outputs": [],
   "source": []
  }
 ],
 "metadata": {
  "kernelspec": {
   "display_name": "Python 3",
   "language": "python",
   "name": "python3"
  },
  "language_info": {
   "codemirror_mode": {
    "name": "ipython",
    "version": 3
   },
   "file_extension": ".py",
   "mimetype": "text/x-python",
   "name": "python",
   "nbconvert_exporter": "python",
   "pygments_lexer": "ipython3",
   "version": "3.7.6"
  }
 },
 "nbformat": 4,
 "nbformat_minor": 4
}
