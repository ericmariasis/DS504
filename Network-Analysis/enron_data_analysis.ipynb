{
 "cells": [
  {
   "cell_type": "markdown",
   "metadata": {},
   "source": [
    "# Network Analysis on Enron email dataset"
   ]
  },
  {
   "cell_type": "markdown",
   "metadata": {},
   "source": [
    "Let us load the modules that we use for this analysis"
   ]
  },
  {
   "cell_type": "code",
   "execution_count": 1,
   "metadata": {},
   "outputs": [],
   "source": [
    "import pandas as pd\n",
    "import numpy as np\n",
    "import networkx as nx\n",
    "import matplotlib.pyplot as plt\n",
    "%matplotlib inline\n",
    "from collections import Counter\n",
    "from itertools import groupby\n",
    "import random\n",
    "from tqdm import tqdm"
   ]
  },
  {
   "cell_type": "markdown",
   "metadata": {},
   "source": [
    "Reading the node and edge files"
   ]
  },
  {
   "cell_type": "code",
   "execution_count": 2,
   "metadata": {},
   "outputs": [],
   "source": [
    "nodes = pd.read_csv('data/id-email.csv', header=None)"
   ]
  },
  {
   "cell_type": "code",
   "execution_count": 3,
   "metadata": {},
   "outputs": [],
   "source": [
    "edges = pd.read_csv('data/edges.csv')"
   ]
  },
  {
   "cell_type": "code",
   "execution_count": 4,
   "metadata": {},
   "outputs": [
    {
     "data": {
      "text/plain": [
       "(6600, 2)"
      ]
     },
     "execution_count": 4,
     "metadata": {},
     "output_type": "execute_result"
    }
   ],
   "source": [
    "nodes.shape"
   ]
  },
  {
   "cell_type": "markdown",
   "metadata": {},
   "source": [
    "There are total 6599 email addresses in the dataset"
   ]
  },
  {
   "cell_type": "code",
   "execution_count": 5,
   "metadata": {},
   "outputs": [
    {
     "data": {
      "text/html": [
       "<div>\n",
       "<style scoped>\n",
       "    .dataframe tbody tr th:only-of-type {\n",
       "        vertical-align: middle;\n",
       "    }\n",
       "\n",
       "    .dataframe tbody tr th {\n",
       "        vertical-align: top;\n",
       "    }\n",
       "\n",
       "    .dataframe thead th {\n",
       "        text-align: right;\n",
       "    }\n",
       "</style>\n",
       "<table border=\"1\" class=\"dataframe\">\n",
       "  <thead>\n",
       "    <tr style=\"text-align: right;\">\n",
       "      <th></th>\n",
       "      <th>0</th>\n",
       "      <th>1</th>\n",
       "    </tr>\n",
       "  </thead>\n",
       "  <tbody>\n",
       "    <tr>\n",
       "      <th>0</th>\n",
       "      <td>0</td>\n",
       "      <td>1800flowers@shop2u.com</td>\n",
       "    </tr>\n",
       "    <tr>\n",
       "      <th>1</th>\n",
       "      <td>1</td>\n",
       "      <td>2000greetings@postalmanager.com</td>\n",
       "    </tr>\n",
       "    <tr>\n",
       "      <th>2</th>\n",
       "      <td>2</td>\n",
       "      <td>2740741@skytel.com</td>\n",
       "    </tr>\n",
       "    <tr>\n",
       "      <th>3</th>\n",
       "      <td>3</td>\n",
       "      <td>40ees@enron.com</td>\n",
       "    </tr>\n",
       "    <tr>\n",
       "      <th>4</th>\n",
       "      <td>4</td>\n",
       "      <td>40enron@enron.com</td>\n",
       "    </tr>\n",
       "  </tbody>\n",
       "</table>\n",
       "</div>"
      ],
      "text/plain": [
       "   0                                1\n",
       "0  0           1800flowers@shop2u.com\n",
       "1  1  2000greetings@postalmanager.com\n",
       "2  2               2740741@skytel.com\n",
       "3  3                  40ees@enron.com\n",
       "4  4                40enron@enron.com"
      ]
     },
     "execution_count": 5,
     "metadata": {},
     "output_type": "execute_result"
    }
   ],
   "source": [
    "nodes.head()"
   ]
  },
  {
   "cell_type": "code",
   "execution_count": 6,
   "metadata": {},
   "outputs": [
    {
     "data": {
      "text/plain": [
       "(50897, 3)"
      ]
     },
     "execution_count": 6,
     "metadata": {},
     "output_type": "execute_result"
    }
   ],
   "source": [
    "edges.shape"
   ]
  },
  {
   "cell_type": "code",
   "execution_count": 7,
   "metadata": {},
   "outputs": [
    {
     "data": {
      "text/html": [
       "<div>\n",
       "<style scoped>\n",
       "    .dataframe tbody tr th:only-of-type {\n",
       "        vertical-align: middle;\n",
       "    }\n",
       "\n",
       "    .dataframe tbody tr th {\n",
       "        vertical-align: top;\n",
       "    }\n",
       "\n",
       "    .dataframe thead th {\n",
       "        text-align: right;\n",
       "    }\n",
       "</style>\n",
       "<table border=\"1\" class=\"dataframe\">\n",
       "  <thead>\n",
       "    <tr style=\"text-align: right;\">\n",
       "      <th></th>\n",
       "      <th>From</th>\n",
       "      <th>To</th>\n",
       "      <th>Count</th>\n",
       "    </tr>\n",
       "  </thead>\n",
       "  <tbody>\n",
       "    <tr>\n",
       "      <th>0</th>\n",
       "      <td>0</td>\n",
       "      <td>1760</td>\n",
       "      <td>3</td>\n",
       "    </tr>\n",
       "    <tr>\n",
       "      <th>1</th>\n",
       "      <td>2</td>\n",
       "      <td>2692</td>\n",
       "      <td>6</td>\n",
       "    </tr>\n",
       "    <tr>\n",
       "      <th>2</th>\n",
       "      <td>3</td>\n",
       "      <td>2719</td>\n",
       "      <td>2</td>\n",
       "    </tr>\n",
       "    <tr>\n",
       "      <th>3</th>\n",
       "      <td>3</td>\n",
       "      <td>3118</td>\n",
       "      <td>2</td>\n",
       "    </tr>\n",
       "    <tr>\n",
       "      <th>4</th>\n",
       "      <td>3</td>\n",
       "      <td>5211</td>\n",
       "      <td>2</td>\n",
       "    </tr>\n",
       "  </tbody>\n",
       "</table>\n",
       "</div>"
      ],
      "text/plain": [
       "   From    To  Count\n",
       "0     0  1760      3\n",
       "1     2  2692      6\n",
       "2     3  2719      2\n",
       "3     3  3118      2\n",
       "4     3  5211      2"
      ]
     },
     "execution_count": 7,
     "metadata": {},
     "output_type": "execute_result"
    }
   ],
   "source": [
    "edges.head()"
   ]
  },
  {
   "cell_type": "code",
   "execution_count": 8,
   "metadata": {},
   "outputs": [
    {
     "data": {
      "text/plain": [
       "9141"
      ]
     },
     "execution_count": 8,
     "metadata": {},
     "output_type": "execute_result"
    }
   ],
   "source": [
    "edges['Count'].max()"
   ]
  },
  {
   "cell_type": "code",
   "execution_count": 9,
   "metadata": {},
   "outputs": [
    {
     "data": {
      "text/plain": [
       "From     int64\n",
       "To       int64\n",
       "Count    int64\n",
       "dtype: object"
      ]
     },
     "execution_count": 9,
     "metadata": {},
     "output_type": "execute_result"
    }
   ],
   "source": [
    "edges.dtypes"
   ]
  },
  {
   "cell_type": "code",
   "execution_count": 10,
   "metadata": {},
   "outputs": [
    {
     "data": {
      "text/plain": [
       "count    50897.000000\n",
       "mean         9.531426\n",
       "std         55.240772\n",
       "min          1.000000\n",
       "25%          2.000000\n",
       "50%          3.000000\n",
       "75%          6.000000\n",
       "max       9141.000000\n",
       "Name: Count, dtype: float64"
      ]
     },
     "execution_count": 10,
     "metadata": {},
     "output_type": "execute_result"
    }
   ],
   "source": [
    "edges['Count'].describe()"
   ]
  },
  {
   "cell_type": "markdown",
   "metadata": {},
   "source": [
    "Create a grpah object from the edge list"
   ]
  },
  {
   "cell_type": "code",
   "execution_count": 11,
   "metadata": {},
   "outputs": [],
   "source": [
    "enronG = nx.from_pandas_edgelist(df=edges, source='From', target='To', edge_attr=['Count'])"
   ]
  },
  {
   "cell_type": "code",
   "execution_count": 12,
   "metadata": {},
   "outputs": [],
   "source": [
    "count = [i['Count'] for i in dict(enronG.edges).values()]\n",
    "count_new = np.interp(count, (np.min(count), np.max(count)), (1,25))"
   ]
  },
  {
   "cell_type": "code",
   "execution_count": 13,
   "metadata": {},
   "outputs": [
    {
     "data": {
      "text/plain": [
       "25.0"
      ]
     },
     "execution_count": 13,
     "metadata": {},
     "output_type": "execute_result"
    }
   ],
   "source": [
    "np.max(count_new)"
   ]
  },
  {
   "cell_type": "code",
   "execution_count": 14,
   "metadata": {},
   "outputs": [
    {
     "name": "stdout",
     "output_type": "stream",
     "text": [
      "Name: \n",
      "Type: Graph\n",
      "Number of nodes: 6187\n",
      "Number of edges: 40777\n",
      "Average degree:  13.1815\n"
     ]
    }
   ],
   "source": [
    "# Quick Snapshot of the network\n",
    "print(nx.info(enronG))"
   ]
  },
  {
   "cell_type": "markdown",
   "metadata": {},
   "source": [
    "Visualizing Graph might take some time"
   ]
  },
  {
   "cell_type": "code",
   "execution_count": 15,
   "metadata": {},
   "outputs": [
    {
     "data": {
      "image/png": "[encoded data removed]",
      "text/plain": [
       "<Figure size 432x288 with 1 Axes>"
      ]
     },
     "metadata": {},
     "output_type": "display_data"
    }
   ],
   "source": [
    "nx.draw_networkx(enronG, pos=nx.spring_layout(enronG), with_labels=False, node_size=35, node_color='r', width=count_new)"
   ]
  },
  {
   "cell_type": "markdown",
   "metadata": {},
   "source": [
    "As we can see, there are lot small subgraphs in this network. Let us just focus on teh largest connected component"
   ]
  },
  {
   "cell_type": "code",
   "execution_count": 16,
   "metadata": {},
   "outputs": [
    {
     "data": {
      "text/plain": [
       "[6067,\n",
       " 14,\n",
       " 4,\n",
       " 3,\n",
       " 3,\n",
       " 2,\n",
       " 2,\n",
       " 2,\n",
       " 2,\n",
       " 2,\n",
       " 2,\n",
       " 2,\n",
       " 2,\n",
       " 2,\n",
       " 2,\n",
       " 2,\n",
       " 2,\n",
       " 1,\n",
       " 1,\n",
       " 1,\n",
       " 1,\n",
       " 1,\n",
       " 1,\n",
       " 1,\n",
       " 1,\n",
       " 1,\n",
       " 1,\n",
       " 1,\n",
       " 1,\n",
       " 1,\n",
       " 1,\n",
       " 1,\n",
       " 1,\n",
       " 1,\n",
       " 1,\n",
       " 1,\n",
       " 1,\n",
       " 1,\n",
       " 1,\n",
       " 1,\n",
       " 1,\n",
       " 1,\n",
       " 1,\n",
       " 1,\n",
       " 1,\n",
       " 1,\n",
       " 1,\n",
       " 1,\n",
       " 1,\n",
       " 1,\n",
       " 1,\n",
       " 1,\n",
       " 1,\n",
       " 1,\n",
       " 1,\n",
       " 1,\n",
       " 1,\n",
       " 1,\n",
       " 1,\n",
       " 1,\n",
       " 1,\n",
       " 1,\n",
       " 1,\n",
       " 1,\n",
       " 1,\n",
       " 1,\n",
       " 1,\n",
       " 1,\n",
       " 1,\n",
       " 1,\n",
       " 1,\n",
       " 1,\n",
       " 1,\n",
       " 1,\n",
       " 1,\n",
       " 1,\n",
       " 1,\n",
       " 1,\n",
       " 1,\n",
       " 1,\n",
       " 1,\n",
       " 1,\n",
       " 1,\n",
       " 1,\n",
       " 1,\n",
       " 1,\n",
       " 1,\n",
       " 1,\n",
       " 1]"
      ]
     },
     "execution_count": 16,
     "metadata": {},
     "output_type": "execute_result"
    }
   ],
   "source": [
    "[len(c) for c in sorted(nx.connected_components(enronG), key=len, reverse=True)]"
   ]
  },
  {
   "cell_type": "code",
   "execution_count": 17,
   "metadata": {},
   "outputs": [],
   "source": [
    "S = [enronG.subgraph(c).copy() for c in nx.connected_components(enronG.to_undirected())]"
   ]
  },
  {
   "cell_type": "code",
   "execution_count": 18,
   "metadata": {},
   "outputs": [
    {
     "data": {
      "text/plain": [
       "6067"
      ]
     },
     "execution_count": 18,
     "metadata": {},
     "output_type": "execute_result"
    }
   ],
   "source": [
    "len(S[0])"
   ]
  },
  {
   "cell_type": "markdown",
   "metadata": {},
   "source": [
    "Largest connected Graph is with ~6k nodes"
   ]
  },
  {
   "cell_type": "code",
   "execution_count": 19,
   "metadata": {},
   "outputs": [],
   "source": [
    "lcc_enron = S[0]"
   ]
  },
  {
   "cell_type": "code",
   "execution_count": 20,
   "metadata": {},
   "outputs": [],
   "source": [
    "lcc_count = [i['Count'] for i in dict(S[0].edges).values()]\n",
    "lcc_count_new = np.interp(lcc_count, (np.min(lcc_count), np.max(lcc_count)), (1,25))"
   ]
  },
  {
   "cell_type": "code",
   "execution_count": 21,
   "metadata": {},
   "outputs": [
    {
     "data": {
      "image/png": "[encoded data removed]",
      "text/plain": [
       "<Figure size 432x288 with 1 Axes>"
      ]
     },
     "metadata": {},
     "output_type": "display_data"
    }
   ],
   "source": [
    "nx.draw_networkx(lcc_enron, pos=nx.spring_layout(lcc_enron), with_labels=False, node_size=35, node_color='r', width=lcc_count_new)"
   ]
  },
  {
   "cell_type": "markdown",
   "metadata": {},
   "source": [
    "Extract local node features for all the nodes present in largest connected graph"
   ]
  },
  {
   "cell_type": "code",
   "execution_count": 22,
   "metadata": {},
   "outputs": [],
   "source": [
    "g_features = pd.DataFrame({'Degree':nx.degree_centrality(lcc_enron),\n",
    "                           'Closeness':nx.closeness_centrality(lcc_enron),\n",
    "                           'Betweenness':nx.betweenness_centrality(lcc_enron),\n",
    "                           'Eigenvector':nx.eigenvector_centrality(lcc_enron),\n",
    "                           'Katz':nx.katz_centrality_numpy(lcc_enron),\n",
    "                           'PageRank':nx.pagerank(lcc_enron),\n",
    "                           'GlobalReaching':nx.global_reaching_centrality(lcc_enron)\n",
    "})"
   ]
  },
  {
   "cell_type": "code",
   "execution_count": 23,
   "metadata": {},
   "outputs": [
    {
     "data": {
      "text/html": [
       "<div>\n",
       "<style scoped>\n",
       "    .dataframe tbody tr th:only-of-type {\n",
       "        vertical-align: middle;\n",
       "    }\n",
       "\n",
       "    .dataframe tbody tr th {\n",
       "        vertical-align: top;\n",
       "    }\n",
       "\n",
       "    .dataframe thead th {\n",
       "        text-align: right;\n",
       "    }\n",
       "</style>\n",
       "<table border=\"1\" class=\"dataframe\">\n",
       "  <thead>\n",
       "    <tr style=\"text-align: right;\">\n",
       "      <th></th>\n",
       "      <th>Degree</th>\n",
       "      <th>Closeness</th>\n",
       "      <th>Betweenness</th>\n",
       "      <th>Eigenvector</th>\n",
       "      <th>Katz</th>\n",
       "      <th>PageRank</th>\n",
       "      <th>GlobalReaching</th>\n",
       "    </tr>\n",
       "  </thead>\n",
       "  <tbody>\n",
       "    <tr>\n",
       "      <th>0</th>\n",
       "      <td>0.000165</td>\n",
       "      <td>0.239479</td>\n",
       "      <td>0.000000</td>\n",
       "      <td>0.000028</td>\n",
       "      <td>0.001028</td>\n",
       "      <td>0.000049</td>\n",
       "      <td>0.169253</td>\n",
       "    </tr>\n",
       "    <tr>\n",
       "      <th>1760</th>\n",
       "      <td>0.005770</td>\n",
       "      <td>0.314872</td>\n",
       "      <td>0.004390</td>\n",
       "      <td>0.001784</td>\n",
       "      <td>-0.000577</td>\n",
       "      <td>0.000889</td>\n",
       "      <td>0.169253</td>\n",
       "    </tr>\n",
       "    <tr>\n",
       "      <th>2</th>\n",
       "      <td>0.000330</td>\n",
       "      <td>0.289188</td>\n",
       "      <td>0.000000</td>\n",
       "      <td>0.001673</td>\n",
       "      <td>0.006718</td>\n",
       "      <td>0.000055</td>\n",
       "      <td>0.169253</td>\n",
       "    </tr>\n",
       "    <tr>\n",
       "      <th>2692</th>\n",
       "      <td>0.012694</td>\n",
       "      <td>0.319297</td>\n",
       "      <td>0.005364</td>\n",
       "      <td>0.006494</td>\n",
       "      <td>0.092338</td>\n",
       "      <td>0.001593</td>\n",
       "      <td>0.169253</td>\n",
       "    </tr>\n",
       "    <tr>\n",
       "      <th>3</th>\n",
       "      <td>0.000495</td>\n",
       "      <td>0.292000</td>\n",
       "      <td>0.000012</td>\n",
       "      <td>0.002066</td>\n",
       "      <td>-0.008103</td>\n",
       "      <td>0.000058</td>\n",
       "      <td>0.169253</td>\n",
       "    </tr>\n",
       "  </tbody>\n",
       "</table>\n",
       "</div>"
      ],
      "text/plain": [
       "        Degree  Closeness  Betweenness  Eigenvector      Katz  PageRank  \\\n",
       "0     0.000165   0.239479     0.000000     0.000028  0.001028  0.000049   \n",
       "1760  0.005770   0.314872     0.004390     0.001784 -0.000577  0.000889   \n",
       "2     0.000330   0.289188     0.000000     0.001673  0.006718  0.000055   \n",
       "2692  0.012694   0.319297     0.005364     0.006494  0.092338  0.001593   \n",
       "3     0.000495   0.292000     0.000012     0.002066 -0.008103  0.000058   \n",
       "\n",
       "      GlobalReaching  \n",
       "0           0.169253  \n",
       "1760        0.169253  \n",
       "2           0.169253  \n",
       "2692        0.169253  \n",
       "3           0.169253  "
      ]
     },
     "execution_count": 23,
     "metadata": {},
     "output_type": "execute_result"
    }
   ],
   "source": [
    "g_features.head()"
   ]
  },
  {
   "cell_type": "markdown",
   "metadata": {},
   "source": [
    "Let us look at the correlations between these local graph metrics"
   ]
  },
  {
   "cell_type": "code",
   "execution_count": 24,
   "metadata": {},
   "outputs": [
    {
     "data": {
      "text/html": [
       "<style  type=\"text/css\" >\n",
       "    #T_3abf0930_bc6e_11ea_9c1e_9cb6d0f9a970row0_col0 {\n",
       "            background-color:  #006837;\n",
       "            color:  #f1f1f1;\n",
       "        }    #T_3abf0930_bc6e_11ea_9c1e_9cb6d0f9a970row0_col1 {\n",
       "            background-color:  #dcf08f;\n",
       "            color:  #000000;\n",
       "        }    #T_3abf0930_bc6e_11ea_9c1e_9cb6d0f9a970row0_col2 {\n",
       "            background-color:  #2aa054;\n",
       "            color:  #000000;\n",
       "        }    #T_3abf0930_bc6e_11ea_9c1e_9cb6d0f9a970row0_col3 {\n",
       "            background-color:  #1e9a51;\n",
       "            color:  #000000;\n",
       "        }    #T_3abf0930_bc6e_11ea_9c1e_9cb6d0f9a970row0_col4 {\n",
       "            background-color:  #b30d26;\n",
       "            color:  #f1f1f1;\n",
       "        }    #T_3abf0930_bc6e_11ea_9c1e_9cb6d0f9a970row0_col5 {\n",
       "            background-color:  #036e3a;\n",
       "            color:  #f1f1f1;\n",
       "        }    #T_3abf0930_bc6e_11ea_9c1e_9cb6d0f9a970row0_col6 {\n",
       "            background-color:  #a50026;\n",
       "            color:  #f1f1f1;\n",
       "        }    #T_3abf0930_bc6e_11ea_9c1e_9cb6d0f9a970row1_col0 {\n",
       "            background-color:  #e2f397;\n",
       "            color:  #000000;\n",
       "        }    #T_3abf0930_bc6e_11ea_9c1e_9cb6d0f9a970row1_col1 {\n",
       "            background-color:  #006837;\n",
       "            color:  #f1f1f1;\n",
       "        }    #T_3abf0930_bc6e_11ea_9c1e_9cb6d0f9a970row1_col2 {\n",
       "            background-color:  #fdc574;\n",
       "            color:  #000000;\n",
       "        }    #T_3abf0930_bc6e_11ea_9c1e_9cb6d0f9a970row1_col3 {\n",
       "            background-color:  #a2d76a;\n",
       "            color:  #000000;\n",
       "        }    #T_3abf0930_bc6e_11ea_9c1e_9cb6d0f9a970row1_col4 {\n",
       "            background-color:  #a50026;\n",
       "            color:  #f1f1f1;\n",
       "        }    #T_3abf0930_bc6e_11ea_9c1e_9cb6d0f9a970row1_col5 {\n",
       "            background-color:  #f8fcb6;\n",
       "            color:  #000000;\n",
       "        }    #T_3abf0930_bc6e_11ea_9c1e_9cb6d0f9a970row1_col6 {\n",
       "            background-color:  #a50026;\n",
       "            color:  #f1f1f1;\n",
       "        }    #T_3abf0930_bc6e_11ea_9c1e_9cb6d0f9a970row2_col0 {\n",
       "            background-color:  #2aa054;\n",
       "            color:  #000000;\n",
       "        }    #T_3abf0930_bc6e_11ea_9c1e_9cb6d0f9a970row2_col1 {\n",
       "            background-color:  #fed481;\n",
       "            color:  #000000;\n",
       "        }    #T_3abf0930_bc6e_11ea_9c1e_9cb6d0f9a970row2_col2 {\n",
       "            background-color:  #006837;\n",
       "            color:  #f1f1f1;\n",
       "        }    #T_3abf0930_bc6e_11ea_9c1e_9cb6d0f9a970row2_col3 {\n",
       "            background-color:  #a9da6c;\n",
       "            color:  #000000;\n",
       "        }    #T_3abf0930_bc6e_11ea_9c1e_9cb6d0f9a970row2_col4 {\n",
       "            background-color:  #bb1526;\n",
       "            color:  #f1f1f1;\n",
       "        }    #T_3abf0930_bc6e_11ea_9c1e_9cb6d0f9a970row2_col5 {\n",
       "            background-color:  #138c4a;\n",
       "            color:  #000000;\n",
       "        }    #T_3abf0930_bc6e_11ea_9c1e_9cb6d0f9a970row2_col6 {\n",
       "            background-color:  #a50026;\n",
       "            color:  #f1f1f1;\n",
       "        }    #T_3abf0930_bc6e_11ea_9c1e_9cb6d0f9a970row3_col0 {\n",
       "            background-color:  #1e9a51;\n",
       "            color:  #000000;\n",
       "        }    #T_3abf0930_bc6e_11ea_9c1e_9cb6d0f9a970row3_col1 {\n",
       "            background-color:  #a0d669;\n",
       "            color:  #000000;\n",
       "        }    #T_3abf0930_bc6e_11ea_9c1e_9cb6d0f9a970row3_col2 {\n",
       "            background-color:  #addc6f;\n",
       "            color:  #000000;\n",
       "        }    #T_3abf0930_bc6e_11ea_9c1e_9cb6d0f9a970row3_col3 {\n",
       "            background-color:  #006837;\n",
       "            color:  #f1f1f1;\n",
       "        }    #T_3abf0930_bc6e_11ea_9c1e_9cb6d0f9a970row3_col4 {\n",
       "            background-color:  #af0926;\n",
       "            color:  #f1f1f1;\n",
       "        }    #T_3abf0930_bc6e_11ea_9c1e_9cb6d0f9a970row3_col5 {\n",
       "            background-color:  #48ae5c;\n",
       "            color:  #000000;\n",
       "        }    #T_3abf0930_bc6e_11ea_9c1e_9cb6d0f9a970row3_col6 {\n",
       "            background-color:  #a50026;\n",
       "            color:  #f1f1f1;\n",
       "        }    #T_3abf0930_bc6e_11ea_9c1e_9cb6d0f9a970row4_col0 {\n",
       "            background-color:  #a50026;\n",
       "            color:  #f1f1f1;\n",
       "        }    #T_3abf0930_bc6e_11ea_9c1e_9cb6d0f9a970row4_col1 {\n",
       "            background-color:  #a50026;\n",
       "            color:  #f1f1f1;\n",
       "        }    #T_3abf0930_bc6e_11ea_9c1e_9cb6d0f9a970row4_col2 {\n",
       "            background-color:  #a50026;\n",
       "            color:  #f1f1f1;\n",
       "        }    #T_3abf0930_bc6e_11ea_9c1e_9cb6d0f9a970row4_col3 {\n",
       "            background-color:  #a50026;\n",
       "            color:  #f1f1f1;\n",
       "        }    #T_3abf0930_bc6e_11ea_9c1e_9cb6d0f9a970row4_col4 {\n",
       "            background-color:  #006837;\n",
       "            color:  #f1f1f1;\n",
       "        }    #T_3abf0930_bc6e_11ea_9c1e_9cb6d0f9a970row4_col5 {\n",
       "            background-color:  #a50026;\n",
       "            color:  #f1f1f1;\n",
       "        }    #T_3abf0930_bc6e_11ea_9c1e_9cb6d0f9a970row4_col6 {\n",
       "            background-color:  #a50026;\n",
       "            color:  #f1f1f1;\n",
       "        }    #T_3abf0930_bc6e_11ea_9c1e_9cb6d0f9a970row5_col0 {\n",
       "            background-color:  #036e3a;\n",
       "            color:  #f1f1f1;\n",
       "        }    #T_3abf0930_bc6e_11ea_9c1e_9cb6d0f9a970row5_col1 {\n",
       "            background-color:  #f1f9ac;\n",
       "            color:  #000000;\n",
       "        }    #T_3abf0930_bc6e_11ea_9c1e_9cb6d0f9a970row5_col2 {\n",
       "            background-color:  #138c4a;\n",
       "            color:  #000000;\n",
       "        }    #T_3abf0930_bc6e_11ea_9c1e_9cb6d0f9a970row5_col3 {\n",
       "            background-color:  #45ad5b;\n",
       "            color:  #000000;\n",
       "        }    #T_3abf0930_bc6e_11ea_9c1e_9cb6d0f9a970row5_col4 {\n",
       "            background-color:  #b91326;\n",
       "            color:  #f1f1f1;\n",
       "        }    #T_3abf0930_bc6e_11ea_9c1e_9cb6d0f9a970row5_col5 {\n",
       "            background-color:  #006837;\n",
       "            color:  #f1f1f1;\n",
       "        }    #T_3abf0930_bc6e_11ea_9c1e_9cb6d0f9a970row5_col6 {\n",
       "            background-color:  #a50026;\n",
       "            color:  #f1f1f1;\n",
       "        }    #T_3abf0930_bc6e_11ea_9c1e_9cb6d0f9a970row6_col0 {\n",
       "            background-color:  #b50f26;\n",
       "            color:  #f1f1f1;\n",
       "        }    #T_3abf0930_bc6e_11ea_9c1e_9cb6d0f9a970row6_col1 {\n",
       "            background-color:  #c41e27;\n",
       "            color:  #f1f1f1;\n",
       "        }    #T_3abf0930_bc6e_11ea_9c1e_9cb6d0f9a970row6_col2 {\n",
       "            background-color:  #af0926;\n",
       "            color:  #f1f1f1;\n",
       "        }    #T_3abf0930_bc6e_11ea_9c1e_9cb6d0f9a970row6_col3 {\n",
       "            background-color:  #bb1526;\n",
       "            color:  #f1f1f1;\n",
       "        }    #T_3abf0930_bc6e_11ea_9c1e_9cb6d0f9a970row6_col4 {\n",
       "            background-color:  #c41e27;\n",
       "            color:  #f1f1f1;\n",
       "        }    #T_3abf0930_bc6e_11ea_9c1e_9cb6d0f9a970row6_col5 {\n",
       "            background-color:  #b10b26;\n",
       "            color:  #f1f1f1;\n",
       "        }    #T_3abf0930_bc6e_11ea_9c1e_9cb6d0f9a970row6_col6 {\n",
       "            background-color:  #006837;\n",
       "            color:  #f1f1f1;\n",
       "        }</style><table id=\"T_3abf0930_bc6e_11ea_9c1e_9cb6d0f9a970\" ><thead>    <tr>        <th class=\"blank level0\" ></th>        <th class=\"col_heading level0 col0\" >Degree</th>        <th class=\"col_heading level0 col1\" >Closeness</th>        <th class=\"col_heading level0 col2\" >Betweenness</th>        <th class=\"col_heading level0 col3\" >Eigenvector</th>        <th class=\"col_heading level0 col4\" >Katz</th>        <th class=\"col_heading level0 col5\" >PageRank</th>        <th class=\"col_heading level0 col6\" >GlobalReaching</th>    </tr></thead><tbody>\n",
       "                <tr>\n",
       "                        <th id=\"T_3abf0930_bc6e_11ea_9c1e_9cb6d0f9a970level0_row0\" class=\"row_heading level0 row0\" >Degree</th>\n",
       "                        <td id=\"T_3abf0930_bc6e_11ea_9c1e_9cb6d0f9a970row0_col0\" class=\"data row0 col0\" >1.00</td>\n",
       "                        <td id=\"T_3abf0930_bc6e_11ea_9c1e_9cb6d0f9a970row0_col1\" class=\"data row0 col1\" >0.56</td>\n",
       "                        <td id=\"T_3abf0930_bc6e_11ea_9c1e_9cb6d0f9a970row0_col2\" class=\"data row0 col2\" >0.87</td>\n",
       "                        <td id=\"T_3abf0930_bc6e_11ea_9c1e_9cb6d0f9a970row0_col3\" class=\"data row0 col3\" >0.89</td>\n",
       "                        <td id=\"T_3abf0930_bc6e_11ea_9c1e_9cb6d0f9a970row0_col4\" class=\"data row0 col4\" >-0.04</td>\n",
       "                        <td id=\"T_3abf0930_bc6e_11ea_9c1e_9cb6d0f9a970row0_col5\" class=\"data row0 col5\" >0.99</td>\n",
       "                        <td id=\"T_3abf0930_bc6e_11ea_9c1e_9cb6d0f9a970row0_col6\" class=\"data row0 col6\" >0.00</td>\n",
       "            </tr>\n",
       "            <tr>\n",
       "                        <th id=\"T_3abf0930_bc6e_11ea_9c1e_9cb6d0f9a970level0_row1\" class=\"row_heading level0 row1\" >Closeness</th>\n",
       "                        <td id=\"T_3abf0930_bc6e_11ea_9c1e_9cb6d0f9a970row1_col0\" class=\"data row1 col0\" >0.56</td>\n",
       "                        <td id=\"T_3abf0930_bc6e_11ea_9c1e_9cb6d0f9a970row1_col1\" class=\"data row1 col1\" >1.00</td>\n",
       "                        <td id=\"T_3abf0930_bc6e_11ea_9c1e_9cb6d0f9a970row1_col2\" class=\"data row1 col2\" >0.33</td>\n",
       "                        <td id=\"T_3abf0930_bc6e_11ea_9c1e_9cb6d0f9a970row1_col3\" class=\"data row1 col3\" >0.69</td>\n",
       "                        <td id=\"T_3abf0930_bc6e_11ea_9c1e_9cb6d0f9a970row1_col4\" class=\"data row1 col4\" >-0.07</td>\n",
       "                        <td id=\"T_3abf0930_bc6e_11ea_9c1e_9cb6d0f9a970row1_col5\" class=\"data row1 col5\" >0.51</td>\n",
       "                        <td id=\"T_3abf0930_bc6e_11ea_9c1e_9cb6d0f9a970row1_col6\" class=\"data row1 col6\" >0.00</td>\n",
       "            </tr>\n",
       "            <tr>\n",
       "                        <th id=\"T_3abf0930_bc6e_11ea_9c1e_9cb6d0f9a970level0_row2\" class=\"row_heading level0 row2\" >Betweenness</th>\n",
       "                        <td id=\"T_3abf0930_bc6e_11ea_9c1e_9cb6d0f9a970row2_col0\" class=\"data row2 col0\" >0.87</td>\n",
       "                        <td id=\"T_3abf0930_bc6e_11ea_9c1e_9cb6d0f9a970row2_col1\" class=\"data row2 col1\" >0.33</td>\n",
       "                        <td id=\"T_3abf0930_bc6e_11ea_9c1e_9cb6d0f9a970row2_col2\" class=\"data row2 col2\" >1.00</td>\n",
       "                        <td id=\"T_3abf0930_bc6e_11ea_9c1e_9cb6d0f9a970row2_col3\" class=\"data row2 col3\" >0.68</td>\n",
       "                        <td id=\"T_3abf0930_bc6e_11ea_9c1e_9cb6d0f9a970row2_col4\" class=\"data row2 col4\" >-0.02</td>\n",
       "                        <td id=\"T_3abf0930_bc6e_11ea_9c1e_9cb6d0f9a970row2_col5\" class=\"data row2 col5\" >0.92</td>\n",
       "                        <td id=\"T_3abf0930_bc6e_11ea_9c1e_9cb6d0f9a970row2_col6\" class=\"data row2 col6\" >0.00</td>\n",
       "            </tr>\n",
       "            <tr>\n",
       "                        <th id=\"T_3abf0930_bc6e_11ea_9c1e_9cb6d0f9a970level0_row3\" class=\"row_heading level0 row3\" >Eigenvector</th>\n",
       "                        <td id=\"T_3abf0930_bc6e_11ea_9c1e_9cb6d0f9a970row3_col0\" class=\"data row3 col0\" >0.89</td>\n",
       "                        <td id=\"T_3abf0930_bc6e_11ea_9c1e_9cb6d0f9a970row3_col1\" class=\"data row3 col1\" >0.69</td>\n",
       "                        <td id=\"T_3abf0930_bc6e_11ea_9c1e_9cb6d0f9a970row3_col2\" class=\"data row3 col2\" >0.68</td>\n",
       "                        <td id=\"T_3abf0930_bc6e_11ea_9c1e_9cb6d0f9a970row3_col3\" class=\"data row3 col3\" >1.00</td>\n",
       "                        <td id=\"T_3abf0930_bc6e_11ea_9c1e_9cb6d0f9a970row3_col4\" class=\"data row3 col4\" >-0.05</td>\n",
       "                        <td id=\"T_3abf0930_bc6e_11ea_9c1e_9cb6d0f9a970row3_col5\" class=\"data row3 col5\" >0.84</td>\n",
       "                        <td id=\"T_3abf0930_bc6e_11ea_9c1e_9cb6d0f9a970row3_col6\" class=\"data row3 col6\" >-0.00</td>\n",
       "            </tr>\n",
       "            <tr>\n",
       "                        <th id=\"T_3abf0930_bc6e_11ea_9c1e_9cb6d0f9a970level0_row4\" class=\"row_heading level0 row4\" >Katz</th>\n",
       "                        <td id=\"T_3abf0930_bc6e_11ea_9c1e_9cb6d0f9a970row4_col0\" class=\"data row4 col0\" >-0.04</td>\n",
       "                        <td id=\"T_3abf0930_bc6e_11ea_9c1e_9cb6d0f9a970row4_col1\" class=\"data row4 col1\" >-0.07</td>\n",
       "                        <td id=\"T_3abf0930_bc6e_11ea_9c1e_9cb6d0f9a970row4_col2\" class=\"data row4 col2\" >-0.02</td>\n",
       "                        <td id=\"T_3abf0930_bc6e_11ea_9c1e_9cb6d0f9a970row4_col3\" class=\"data row4 col3\" >-0.05</td>\n",
       "                        <td id=\"T_3abf0930_bc6e_11ea_9c1e_9cb6d0f9a970row4_col4\" class=\"data row4 col4\" >1.00</td>\n",
       "                        <td id=\"T_3abf0930_bc6e_11ea_9c1e_9cb6d0f9a970row4_col5\" class=\"data row4 col5\" >-0.02</td>\n",
       "                        <td id=\"T_3abf0930_bc6e_11ea_9c1e_9cb6d0f9a970row4_col6\" class=\"data row4 col6\" >0.00</td>\n",
       "            </tr>\n",
       "            <tr>\n",
       "                        <th id=\"T_3abf0930_bc6e_11ea_9c1e_9cb6d0f9a970level0_row5\" class=\"row_heading level0 row5\" >PageRank</th>\n",
       "                        <td id=\"T_3abf0930_bc6e_11ea_9c1e_9cb6d0f9a970row5_col0\" class=\"data row5 col0\" >0.99</td>\n",
       "                        <td id=\"T_3abf0930_bc6e_11ea_9c1e_9cb6d0f9a970row5_col1\" class=\"data row5 col1\" >0.51</td>\n",
       "                        <td id=\"T_3abf0930_bc6e_11ea_9c1e_9cb6d0f9a970row5_col2\" class=\"data row5 col2\" >0.92</td>\n",
       "                        <td id=\"T_3abf0930_bc6e_11ea_9c1e_9cb6d0f9a970row5_col3\" class=\"data row5 col3\" >0.84</td>\n",
       "                        <td id=\"T_3abf0930_bc6e_11ea_9c1e_9cb6d0f9a970row5_col4\" class=\"data row5 col4\" >-0.02</td>\n",
       "                        <td id=\"T_3abf0930_bc6e_11ea_9c1e_9cb6d0f9a970row5_col5\" class=\"data row5 col5\" >1.00</td>\n",
       "                        <td id=\"T_3abf0930_bc6e_11ea_9c1e_9cb6d0f9a970row5_col6\" class=\"data row5 col6\" >0.00</td>\n",
       "            </tr>\n",
       "            <tr>\n",
       "                        <th id=\"T_3abf0930_bc6e_11ea_9c1e_9cb6d0f9a970level0_row6\" class=\"row_heading level0 row6\" >GlobalReaching</th>\n",
       "                        <td id=\"T_3abf0930_bc6e_11ea_9c1e_9cb6d0f9a970row6_col0\" class=\"data row6 col0\" >0.00</td>\n",
       "                        <td id=\"T_3abf0930_bc6e_11ea_9c1e_9cb6d0f9a970row6_col1\" class=\"data row6 col1\" >0.00</td>\n",
       "                        <td id=\"T_3abf0930_bc6e_11ea_9c1e_9cb6d0f9a970row6_col2\" class=\"data row6 col2\" >0.00</td>\n",
       "                        <td id=\"T_3abf0930_bc6e_11ea_9c1e_9cb6d0f9a970row6_col3\" class=\"data row6 col3\" >-0.00</td>\n",
       "                        <td id=\"T_3abf0930_bc6e_11ea_9c1e_9cb6d0f9a970row6_col4\" class=\"data row6 col4\" >0.00</td>\n",
       "                        <td id=\"T_3abf0930_bc6e_11ea_9c1e_9cb6d0f9a970row6_col5\" class=\"data row6 col5\" >0.00</td>\n",
       "                        <td id=\"T_3abf0930_bc6e_11ea_9c1e_9cb6d0f9a970row6_col6\" class=\"data row6 col6\" >1.00</td>\n",
       "            </tr>\n",
       "    </tbody></table>"
      ],
      "text/plain": [
       "<pandas.io.formats.style.Styler at 0x1f7d953df48>"
      ]
     },
     "execution_count": 24,
     "metadata": {},
     "output_type": "execute_result"
    }
   ],
   "source": [
    "corr = g_features.corr()\n",
    "corr.style.background_gradient(cmap='RdYlGn').set_precision(2)"
   ]
  },
  {
   "cell_type": "markdown",
   "metadata": {},
   "source": [
    "We will apply an anomaly detection technique called IsolationForest to identify anomalous communication behavior based on local graph metrics"
   ]
  },
  {
   "cell_type": "code",
   "execution_count": 25,
   "metadata": {},
   "outputs": [
    {
     "name": "stderr",
     "output_type": "stream",
     "text": [
      "C:\\ProgramData\\Anaconda3\\lib\\site-packages\\sklearn\\ensemble\\_iforest.py:248: FutureWarning: 'behaviour' is deprecated in 0.22 and will be removed in 0.24. You should not pass or set this parameter.\n",
      "  FutureWarning\n",
      "[Parallel(n_jobs=6)]: Using backend ThreadingBackend with 6 concurrent workers.\n",
      "[Parallel(n_jobs=6)]: Done   2 out of   6 | elapsed:    1.2s remaining:    2.4s\n",
      "[Parallel(n_jobs=6)]: Done   6 out of   6 | elapsed:    1.2s finished\n"
     ]
    },
    {
     "data": {
      "text/plain": [
       "IsolationForest(behaviour='new', bootstrap=False, contamination=0.1,\n",
       "                max_features=1.0, max_samples='auto', n_estimators=1000,\n",
       "                n_jobs=-1, random_state=2020, verbose=1, warm_start=False)"
      ]
     },
     "execution_count": 25,
     "metadata": {},
     "output_type": "execute_result"
    }
   ],
   "source": [
    "from sklearn.ensemble import IsolationForest\n",
    "isof = IsolationForest(n_estimators=1000, max_samples='auto', contamination=0.1, \n",
    "                      max_features=1.0, bootstrap=False, n_jobs=-1,\n",
    "                      random_state=2020, verbose=1, behaviour='new')\n",
    "isof.fit(g_features)"
   ]
  },
  {
   "cell_type": "code",
   "execution_count": 26,
   "metadata": {},
   "outputs": [],
   "source": [
    "anomaly_score = isof.decision_function(g_features)\n",
    "anomaly_score_new = np.interp(anomaly_score, (np.min(anomaly_score), np.max(anomaly_score)), (0,1))"
   ]
  },
  {
   "cell_type": "code",
   "execution_count": 27,
   "metadata": {},
   "outputs": [],
   "source": [
    "g_features['anomaly_score_new'] = anomaly_score_new"
   ]
  },
  {
   "cell_type": "code",
   "execution_count": 28,
   "metadata": {},
   "outputs": [
    {
     "data": {
      "text/plain": [
       "<matplotlib.axes._subplots.AxesSubplot at 0x1f780a68088>"
      ]
     },
     "execution_count": 28,
     "metadata": {},
     "output_type": "execute_result"
    },
    {
     "data": {
      "image/png": "[encoded data removed]",
      "text/plain": [
       "<Figure size 432x288 with 2 Axes>"
      ]
     },
     "metadata": {
      "needs_background": "light"
     },
     "output_type": "display_data"
    }
   ],
   "source": [
    "g_features.plot.scatter(x='Betweenness',\n",
    "                       y='Closeness',\n",
    "                       c='anomaly_score_new',\n",
    "                       colormap='viridis')"
   ]
  },
  {
   "cell_type": "markdown",
   "metadata": {},
   "source": [
    "From the above scatter plot, we cann see all teh darker points are anomalies based on Betweenness Centrality and Closeness Centrality"
   ]
  },
  {
   "cell_type": "code",
   "execution_count": 29,
   "metadata": {},
   "outputs": [],
   "source": [
    "g_features = g_features.sort_values(by='anomaly_score_new', ascending=True)"
   ]
  },
  {
   "cell_type": "code",
   "execution_count": 30,
   "metadata": {},
   "outputs": [
    {
     "data": {
      "text/plain": [
       "84"
      ]
     },
     "execution_count": 30,
     "metadata": {},
     "output_type": "execute_result"
    }
   ],
   "source": [
    "import gc\n",
    "gc.collect()"
   ]
  },
  {
   "cell_type": "code",
   "execution_count": 31,
   "metadata": {},
   "outputs": [],
   "source": [
    "color_map = []\n",
    "for node in lcc_enron:\n",
    "    if node in g_features.index[-5:]:\n",
    "        color_map.append('red')\n",
    "    else: color_map.append('green')"
   ]
  },
  {
   "cell_type": "code",
   "execution_count": 32,
   "metadata": {},
   "outputs": [],
   "source": [
    "size_map = []\n",
    "for node in lcc_enron:\n",
    "    if node in g_features.index[-5:]:\n",
    "        size_map.append(200)\n",
    "    else: size_map.append(100) \n",
    "    "
   ]
  },
  {
   "cell_type": "markdown",
   "metadata": {},
   "source": [
    "Top 10 anomalies absed on all the local metrics that we calculated"
   ]
  },
  {
   "cell_type": "code",
   "execution_count": 33,
   "metadata": {},
   "outputs": [
    {
     "data": {
      "text/html": [
       "<div>\n",
       "<style scoped>\n",
       "    .dataframe tbody tr th:only-of-type {\n",
       "        vertical-align: middle;\n",
       "    }\n",
       "\n",
       "    .dataframe tbody tr th {\n",
       "        vertical-align: top;\n",
       "    }\n",
       "\n",
       "    .dataframe thead th {\n",
       "        text-align: right;\n",
       "    }\n",
       "</style>\n",
       "<table border=\"1\" class=\"dataframe\">\n",
       "  <thead>\n",
       "    <tr style=\"text-align: right;\">\n",
       "      <th></th>\n",
       "      <th>Degree</th>\n",
       "      <th>Closeness</th>\n",
       "      <th>Betweenness</th>\n",
       "      <th>Eigenvector</th>\n",
       "      <th>Katz</th>\n",
       "      <th>PageRank</th>\n",
       "      <th>GlobalReaching</th>\n",
       "      <th>anomaly_score_new</th>\n",
       "    </tr>\n",
       "  </thead>\n",
       "  <tbody>\n",
       "    <tr>\n",
       "      <th>6055</th>\n",
       "      <td>0.089680</td>\n",
       "      <td>0.420841</td>\n",
       "      <td>0.055051</td>\n",
       "      <td>0.161914</td>\n",
       "      <td>-0.035107</td>\n",
       "      <td>0.006277</td>\n",
       "      <td>0.169253</td>\n",
       "      <td>0.000000</td>\n",
       "    </tr>\n",
       "    <tr>\n",
       "      <th>5508</th>\n",
       "      <td>0.089021</td>\n",
       "      <td>0.412793</td>\n",
       "      <td>0.060268</td>\n",
       "      <td>0.145712</td>\n",
       "      <td>-0.013104</td>\n",
       "      <td>0.006971</td>\n",
       "      <td>0.169253</td>\n",
       "      <td>0.006204</td>\n",
       "    </tr>\n",
       "    <tr>\n",
       "      <th>5461</th>\n",
       "      <td>0.078470</td>\n",
       "      <td>0.416764</td>\n",
       "      <td>0.047374</td>\n",
       "      <td>0.139745</td>\n",
       "      <td>-0.020649</td>\n",
       "      <td>0.005012</td>\n",
       "      <td>0.169253</td>\n",
       "      <td>0.011950</td>\n",
       "    </tr>\n",
       "    <tr>\n",
       "      <th>2719</th>\n",
       "      <td>0.075997</td>\n",
       "      <td>0.406160</td>\n",
       "      <td>0.074481</td>\n",
       "      <td>0.101626</td>\n",
       "      <td>-0.036010</td>\n",
       "      <td>0.006386</td>\n",
       "      <td>0.169253</td>\n",
       "      <td>0.012076</td>\n",
       "    </tr>\n",
       "    <tr>\n",
       "      <th>6414</th>\n",
       "      <td>0.070392</td>\n",
       "      <td>0.413610</td>\n",
       "      <td>0.048093</td>\n",
       "      <td>0.112578</td>\n",
       "      <td>-0.032004</td>\n",
       "      <td>0.005085</td>\n",
       "      <td>0.169253</td>\n",
       "      <td>0.013875</td>\n",
       "    </tr>\n",
       "    <tr>\n",
       "      <th>3862</th>\n",
       "      <td>0.073689</td>\n",
       "      <td>0.438231</td>\n",
       "      <td>0.038231</td>\n",
       "      <td>0.181811</td>\n",
       "      <td>0.002852</td>\n",
       "      <td>0.004373</td>\n",
       "      <td>0.169253</td>\n",
       "      <td>0.018649</td>\n",
       "    </tr>\n",
       "    <tr>\n",
       "      <th>4072</th>\n",
       "      <td>0.071381</td>\n",
       "      <td>0.411143</td>\n",
       "      <td>0.035666</td>\n",
       "      <td>0.146828</td>\n",
       "      <td>0.013000</td>\n",
       "      <td>0.004861</td>\n",
       "      <td>0.169253</td>\n",
       "      <td>0.020344</td>\n",
       "    </tr>\n",
       "    <tr>\n",
       "      <th>5910</th>\n",
       "      <td>0.064952</td>\n",
       "      <td>0.418460</td>\n",
       "      <td>0.035116</td>\n",
       "      <td>0.133102</td>\n",
       "      <td>-0.008571</td>\n",
       "      <td>0.004340</td>\n",
       "      <td>0.169253</td>\n",
       "      <td>0.024351</td>\n",
       "    </tr>\n",
       "    <tr>\n",
       "      <th>2208</th>\n",
       "      <td>0.063963</td>\n",
       "      <td>0.406296</td>\n",
       "      <td>0.046167</td>\n",
       "      <td>0.095653</td>\n",
       "      <td>0.031617</td>\n",
       "      <td>0.004840</td>\n",
       "      <td>0.169253</td>\n",
       "      <td>0.026520</td>\n",
       "    </tr>\n",
       "    <tr>\n",
       "      <th>3039</th>\n",
       "      <td>0.055061</td>\n",
       "      <td>0.414373</td>\n",
       "      <td>0.023220</td>\n",
       "      <td>0.142356</td>\n",
       "      <td>0.038464</td>\n",
       "      <td>0.003356</td>\n",
       "      <td>0.169253</td>\n",
       "      <td>0.039622</td>\n",
       "    </tr>\n",
       "  </tbody>\n",
       "</table>\n",
       "</div>"
      ],
      "text/plain": [
       "        Degree  Closeness  Betweenness  Eigenvector      Katz  PageRank  \\\n",
       "6055  0.089680   0.420841     0.055051     0.161914 -0.035107  0.006277   \n",
       "5508  0.089021   0.412793     0.060268     0.145712 -0.013104  0.006971   \n",
       "5461  0.078470   0.416764     0.047374     0.139745 -0.020649  0.005012   \n",
       "2719  0.075997   0.406160     0.074481     0.101626 -0.036010  0.006386   \n",
       "6414  0.070392   0.413610     0.048093     0.112578 -0.032004  0.005085   \n",
       "3862  0.073689   0.438231     0.038231     0.181811  0.002852  0.004373   \n",
       "4072  0.071381   0.411143     0.035666     0.146828  0.013000  0.004861   \n",
       "5910  0.064952   0.418460     0.035116     0.133102 -0.008571  0.004340   \n",
       "2208  0.063963   0.406296     0.046167     0.095653  0.031617  0.004840   \n",
       "3039  0.055061   0.414373     0.023220     0.142356  0.038464  0.003356   \n",
       "\n",
       "      GlobalReaching  anomaly_score_new  \n",
       "6055        0.169253           0.000000  \n",
       "5508        0.169253           0.006204  \n",
       "5461        0.169253           0.011950  \n",
       "2719        0.169253           0.012076  \n",
       "6414        0.169253           0.013875  \n",
       "3862        0.169253           0.018649  \n",
       "4072        0.169253           0.020344  \n",
       "5910        0.169253           0.024351  \n",
       "2208        0.169253           0.026520  \n",
       "3039        0.169253           0.039622  "
      ]
     },
     "execution_count": 33,
     "metadata": {},
     "output_type": "execute_result"
    }
   ],
   "source": [
    "g_features.head(10)"
   ]
  },
  {
   "cell_type": "code",
   "execution_count": 34,
   "metadata": {},
   "outputs": [
    {
     "data": {
      "image/png": "[encoded data removed]",
      "text/plain": [
       "<Figure size 432x288 with 1 Axes>"
      ]
     },
     "metadata": {},
     "output_type": "display_data"
    }
   ],
   "source": [
    "pos=nx.kamada_kawai_layout(lcc_enron)\n",
    "nx.draw(lcc_enron, node_color = color_map, node_size=size_map, pos = pos, with_labels = False)"
   ]
  },
  {
   "cell_type": "code",
   "execution_count": 37,
   "metadata": {},
   "outputs": [
    {
     "data": {
      "text/plain": [
       "'C:\\\\Users\\\\dncha\\\\Dropbox\\\\WPI\\\\DS504_Dingari\\\\DS504-exercises\\\\Network-Analysis'"
      ]
     },
     "execution_count": 37,
     "metadata": {},
     "output_type": "execute_result"
    }
   ],
   "source": [
    "import os\n",
    "os.getcwd()"
   ]
  },
  {
   "cell_type": "code",
   "execution_count": 38,
   "metadata": {},
   "outputs": [],
   "source": [
    "nx.write_pajek(lcc_enron, \"data/lcc_enron.net\")"
   ]
  },
  {
   "cell_type": "markdown",
   "metadata": {},
   "source": [
    "We can not really visualize those nodes that are anomalous"
   ]
  },
  {
   "cell_type": "code",
   "execution_count": 39,
   "metadata": {},
   "outputs": [],
   "source": [
    "lcc_enron_small = lcc_enron.subgraph(g_features.index[0:300])"
   ]
  },
  {
   "cell_type": "code",
   "execution_count": 40,
   "metadata": {},
   "outputs": [],
   "source": [
    "nx.write_pajek(lcc_enron_small, \"data/lcc_enron_small.net\")"
   ]
  },
  {
   "cell_type": "code",
   "execution_count": 48,
   "metadata": {},
   "outputs": [],
   "source": [
    "color_map = []\n",
    "for node in lcc_enron_small:\n",
    "    if node in g_features.index[0:5]:\n",
    "        color_map.append('red')\n",
    "    else: color_map.append('green')"
   ]
  },
  {
   "cell_type": "code",
   "execution_count": 49,
   "metadata": {},
   "outputs": [],
   "source": [
    "size_map = []\n",
    "for node in lcc_enron_small:\n",
    "    if node in g_features.index[0:5]:\n",
    "        size_map.append(200)\n",
    "    else: size_map.append(100)"
   ]
  },
  {
   "cell_type": "code",
   "execution_count": 50,
   "metadata": {},
   "outputs": [
    {
     "data": {
      "image/png": "[encoded data removed]",
      "text/plain": [
       "<Figure size 432x288 with 1 Axes>"
      ]
     },
     "metadata": {},
     "output_type": "display_data"
    }
   ],
   "source": [
    "pos=nx.kamada_kawai_layout(lcc_enron_small)\n",
    "nx.draw(lcc_enron_small, node_color = color_map, node_size=size_map, pos = pos, with_labels = False)"
   ]
  },
  {
   "cell_type": "code",
   "execution_count": 51,
   "metadata": {},
   "outputs": [],
   "source": [
    "from pyvis.network import Network\n",
    "net = Network(\"1000px\", \"1000px\", notebook=True)"
   ]
  },
  {
   "cell_type": "code",
   "execution_count": 52,
   "metadata": {},
   "outputs": [],
   "source": [
    "net.from_nx(lcc_enron_small)\n",
    "# net.show_buttons(filter_=['physics'])"
   ]
  },
  {
   "cell_type": "code",
   "execution_count": 53,
   "metadata": {},
   "outputs": [
    {
     "data": {
      "text/html": [
       "\n",
       "        <iframe\n",
       "            width=\"1000px\"\n",
       "            height=\"1000px\"\n",
       "            src=\"lcc_enron.html\"\n",
       "            frameborder=\"0\"\n",
       "            allowfullscreen\n",
       "        ></iframe>\n",
       "        "
      ],
      "text/plain": [
       "<IPython.lib.display.IFrame at 0x1f40f194308>"
      ]
     },
     "execution_count": 53,
     "metadata": {},
     "output_type": "execute_result"
    }
   ],
   "source": [
    "net.show('lcc_enron.html')"
   ]
  },
  {
   "cell_type": "code",
   "execution_count": 54,
   "metadata": {},
   "outputs": [
    {
     "data": {
      "text/html": [
       "<div>\n",
       "<style scoped>\n",
       "    .dataframe tbody tr th:only-of-type {\n",
       "        vertical-align: middle;\n",
       "    }\n",
       "\n",
       "    .dataframe tbody tr th {\n",
       "        vertical-align: top;\n",
       "    }\n",
       "\n",
       "    .dataframe thead th {\n",
       "        text-align: right;\n",
       "    }\n",
       "</style>\n",
       "<table border=\"1\" class=\"dataframe\">\n",
       "  <thead>\n",
       "    <tr style=\"text-align: right;\">\n",
       "      <th></th>\n",
       "      <th>0</th>\n",
       "      <th>1</th>\n",
       "    </tr>\n",
       "  </thead>\n",
       "  <tbody>\n",
       "    <tr>\n",
       "      <th>0</th>\n",
       "      <td>0</td>\n",
       "      <td>1800flowers@shop2u.com</td>\n",
       "    </tr>\n",
       "    <tr>\n",
       "      <th>1</th>\n",
       "      <td>1</td>\n",
       "      <td>2000greetings@postalmanager.com</td>\n",
       "    </tr>\n",
       "    <tr>\n",
       "      <th>2</th>\n",
       "      <td>2</td>\n",
       "      <td>2740741@skytel.com</td>\n",
       "    </tr>\n",
       "    <tr>\n",
       "      <th>3</th>\n",
       "      <td>3</td>\n",
       "      <td>40ees@enron.com</td>\n",
       "    </tr>\n",
       "    <tr>\n",
       "      <th>4</th>\n",
       "      <td>4</td>\n",
       "      <td>40enron@enron.com</td>\n",
       "    </tr>\n",
       "  </tbody>\n",
       "</table>\n",
       "</div>"
      ],
      "text/plain": [
       "   0                                1\n",
       "0  0           1800flowers@shop2u.com\n",
       "1  1  2000greetings@postalmanager.com\n",
       "2  2               2740741@skytel.com\n",
       "3  3                  40ees@enron.com\n",
       "4  4                40enron@enron.com"
      ]
     },
     "execution_count": 54,
     "metadata": {},
     "output_type": "execute_result"
    }
   ],
   "source": [
    "nodes.head()"
   ]
  },
  {
   "cell_type": "code",
   "execution_count": 55,
   "metadata": {},
   "outputs": [
    {
     "data": {
      "text/html": [
       "<div>\n",
       "<style scoped>\n",
       "    .dataframe tbody tr th:only-of-type {\n",
       "        vertical-align: middle;\n",
       "    }\n",
       "\n",
       "    .dataframe tbody tr th {\n",
       "        vertical-align: top;\n",
       "    }\n",
       "\n",
       "    .dataframe thead th {\n",
       "        text-align: right;\n",
       "    }\n",
       "</style>\n",
       "<table border=\"1\" class=\"dataframe\">\n",
       "  <thead>\n",
       "    <tr style=\"text-align: right;\">\n",
       "      <th></th>\n",
       "      <th>0</th>\n",
       "      <th>1</th>\n",
       "      <th>score</th>\n",
       "    </tr>\n",
       "  </thead>\n",
       "  <tbody>\n",
       "    <tr>\n",
       "      <th>6055</th>\n",
       "      <td>6055</td>\n",
       "      <td>tana.jones@enron.com</td>\n",
       "      <td>0.000000</td>\n",
       "    </tr>\n",
       "    <tr>\n",
       "      <th>5508</th>\n",
       "      <td>5508</td>\n",
       "      <td>sara.shackleton@enron.com</td>\n",
       "      <td>0.006204</td>\n",
       "    </tr>\n",
       "    <tr>\n",
       "      <th>5461</th>\n",
       "      <td>5461</td>\n",
       "      <td>sally.beck@enron.com</td>\n",
       "      <td>0.011950</td>\n",
       "    </tr>\n",
       "    <tr>\n",
       "      <th>2719</th>\n",
       "      <td>2719</td>\n",
       "      <td>jeff.dasovich@enron.com</td>\n",
       "      <td>0.012076</td>\n",
       "    </tr>\n",
       "    <tr>\n",
       "      <th>6414</th>\n",
       "      <td>6414</td>\n",
       "      <td>vince.kaminski@enron.com</td>\n",
       "      <td>0.013875</td>\n",
       "    </tr>\n",
       "    <tr>\n",
       "      <th>3862</th>\n",
       "      <td>3862</td>\n",
       "      <td>louise.kitchen@enron.com</td>\n",
       "      <td>0.018649</td>\n",
       "    </tr>\n",
       "    <tr>\n",
       "      <th>4072</th>\n",
       "      <td>4072</td>\n",
       "      <td>mark.taylor@enron.com</td>\n",
       "      <td>0.020344</td>\n",
       "    </tr>\n",
       "    <tr>\n",
       "      <th>5910</th>\n",
       "      <td>5910</td>\n",
       "      <td>steven.kean@enron.com</td>\n",
       "      <td>0.024351</td>\n",
       "    </tr>\n",
       "    <tr>\n",
       "      <th>2208</th>\n",
       "      <td>2208</td>\n",
       "      <td>gerald.nemec@enron.com</td>\n",
       "      <td>0.026520</td>\n",
       "    </tr>\n",
       "    <tr>\n",
       "      <th>3039</th>\n",
       "      <td>3039</td>\n",
       "      <td>john.lavorato@enron.com</td>\n",
       "      <td>0.039622</td>\n",
       "    </tr>\n",
       "  </tbody>\n",
       "</table>\n",
       "</div>"
      ],
      "text/plain": [
       "         0                          1     score\n",
       "6055  6055       tana.jones@enron.com  0.000000\n",
       "5508  5508  sara.shackleton@enron.com  0.006204\n",
       "5461  5461       sally.beck@enron.com  0.011950\n",
       "2719  2719    jeff.dasovich@enron.com  0.012076\n",
       "6414  6414   vince.kaminski@enron.com  0.013875\n",
       "3862  3862   louise.kitchen@enron.com  0.018649\n",
       "4072  4072      mark.taylor@enron.com  0.020344\n",
       "5910  5910      steven.kean@enron.com  0.024351\n",
       "2208  2208     gerald.nemec@enron.com  0.026520\n",
       "3039  3039    john.lavorato@enron.com  0.039622"
      ]
     },
     "execution_count": 55,
     "metadata": {},
     "output_type": "execute_result"
    }
   ],
   "source": [
    "nodes_new = nodes.reindex(g_features.index)\n",
    "nodes_new['score'] = g_features['anomaly_score_new']\n",
    "nodes_new = nodes_new.sort_values(by='score', ascending=True)\n",
    "nodes_new.head(10)"
   ]
  },
  {
   "cell_type": "markdown",
   "metadata": {},
   "source": [
    "These are top 10 anomalous communicators based on our analysis"
   ]
  },
  {
   "cell_type": "code",
   "execution_count": 56,
   "metadata": {},
   "outputs": [],
   "source": [
    "nodes_new.to_csv('nodes_with_scores.csv', index=False)"
   ]
  },
  {
   "cell_type": "markdown",
   "metadata": {},
   "source": [
    "Let us detect communities based on the similar patterns in emails"
   ]
  },
  {
   "cell_type": "code",
   "execution_count": 57,
   "metadata": {},
   "outputs": [],
   "source": [
    "from community import community_louvain\n",
    "parts = community_louvain.best_partition(lcc_enron_small)\n",
    "values = [parts.get(node) for node in lcc_enron_small.nodes()]"
   ]
  },
  {
   "cell_type": "code",
   "execution_count": 60,
   "metadata": {},
   "outputs": [
    {
     "data": {
      "image/png": "[encoded data removed]",
      "text/plain": [
       "<Figure size 432x288 with 1 Axes>"
      ]
     },
     "metadata": {},
     "output_type": "display_data"
    }
   ],
   "source": [
    "plt.axis(\"off\")\n",
    "spring_pos=nx.spring_layout(lcc_enron_small)\n",
    "nx.draw_networkx(lcc_enron_small, pos = spring_pos, cmap = plt.get_cmap(\"jet\"), node_color = values, node_size = 35, with_labels = False)"
   ]
  },
  {
   "cell_type": "code",
   "execution_count": 61,
   "metadata": {},
   "outputs": [],
   "source": [
    "gfeatures_new = g_features.reindex(nodes.index)\n",
    "gfeatures_new['Email'] = nodes[1]"
   ]
  },
  {
   "cell_type": "code",
   "execution_count": 62,
   "metadata": {},
   "outputs": [
    {
     "data": {
      "text/html": [
       "<div>\n",
       "<style scoped>\n",
       "    .dataframe tbody tr th:only-of-type {\n",
       "        vertical-align: middle;\n",
       "    }\n",
       "\n",
       "    .dataframe tbody tr th {\n",
       "        vertical-align: top;\n",
       "    }\n",
       "\n",
       "    .dataframe thead th {\n",
       "        text-align: right;\n",
       "    }\n",
       "</style>\n",
       "<table border=\"1\" class=\"dataframe\">\n",
       "  <thead>\n",
       "    <tr style=\"text-align: right;\">\n",
       "      <th></th>\n",
       "      <th>Degree</th>\n",
       "      <th>Closeness</th>\n",
       "      <th>Betweenness</th>\n",
       "      <th>Eigenvector</th>\n",
       "      <th>Katz</th>\n",
       "      <th>PageRank</th>\n",
       "      <th>GlobalReaching</th>\n",
       "      <th>anomaly_score_new</th>\n",
       "      <th>Email</th>\n",
       "    </tr>\n",
       "  </thead>\n",
       "  <tbody>\n",
       "    <tr>\n",
       "      <th>0</th>\n",
       "      <td>0.000165</td>\n",
       "      <td>0.239479</td>\n",
       "      <td>0.000000</td>\n",
       "      <td>0.000028</td>\n",
       "      <td>0.001028</td>\n",
       "      <td>0.000049</td>\n",
       "      <td>0.169253</td>\n",
       "      <td>0.917467</td>\n",
       "      <td>1800flowers@shop2u.com</td>\n",
       "    </tr>\n",
       "    <tr>\n",
       "      <th>1</th>\n",
       "      <td>NaN</td>\n",
       "      <td>NaN</td>\n",
       "      <td>NaN</td>\n",
       "      <td>NaN</td>\n",
       "      <td>NaN</td>\n",
       "      <td>NaN</td>\n",
       "      <td>NaN</td>\n",
       "      <td>NaN</td>\n",
       "      <td>2000greetings@postalmanager.com</td>\n",
       "    </tr>\n",
       "    <tr>\n",
       "      <th>2</th>\n",
       "      <td>0.000330</td>\n",
       "      <td>0.289188</td>\n",
       "      <td>0.000000</td>\n",
       "      <td>0.001673</td>\n",
       "      <td>0.006718</td>\n",
       "      <td>0.000055</td>\n",
       "      <td>0.169253</td>\n",
       "      <td>0.983305</td>\n",
       "      <td>2740741@skytel.com</td>\n",
       "    </tr>\n",
       "    <tr>\n",
       "      <th>3</th>\n",
       "      <td>0.000495</td>\n",
       "      <td>0.292000</td>\n",
       "      <td>0.000012</td>\n",
       "      <td>0.002066</td>\n",
       "      <td>-0.008103</td>\n",
       "      <td>0.000058</td>\n",
       "      <td>0.169253</td>\n",
       "      <td>0.956068</td>\n",
       "      <td>40ees@enron.com</td>\n",
       "    </tr>\n",
       "    <tr>\n",
       "      <th>4</th>\n",
       "      <td>0.010221</td>\n",
       "      <td>0.385878</td>\n",
       "      <td>0.005255</td>\n",
       "      <td>0.033796</td>\n",
       "      <td>0.039180</td>\n",
       "      <td>0.000663</td>\n",
       "      <td>0.169253</td>\n",
       "      <td>0.352363</td>\n",
       "      <td>40enron@enron.com</td>\n",
       "    </tr>\n",
       "  </tbody>\n",
       "</table>\n",
       "</div>"
      ],
      "text/plain": [
       "     Degree  Closeness  Betweenness  Eigenvector      Katz  PageRank  \\\n",
       "0  0.000165   0.239479     0.000000     0.000028  0.001028  0.000049   \n",
       "1       NaN        NaN          NaN          NaN       NaN       NaN   \n",
       "2  0.000330   0.289188     0.000000     0.001673  0.006718  0.000055   \n",
       "3  0.000495   0.292000     0.000012     0.002066 -0.008103  0.000058   \n",
       "4  0.010221   0.385878     0.005255     0.033796  0.039180  0.000663   \n",
       "\n",
       "   GlobalReaching  anomaly_score_new                            Email  \n",
       "0        0.169253           0.917467           1800flowers@shop2u.com  \n",
       "1             NaN                NaN  2000greetings@postalmanager.com  \n",
       "2        0.169253           0.983305               2740741@skytel.com  \n",
       "3        0.169253           0.956068                  40ees@enron.com  \n",
       "4        0.169253           0.352363                40enron@enron.com  "
      ]
     },
     "execution_count": 62,
     "metadata": {},
     "output_type": "execute_result"
    }
   ],
   "source": [
    "gfeatures_new.head()"
   ]
  },
  {
   "cell_type": "code",
   "execution_count": 63,
   "metadata": {},
   "outputs": [],
   "source": [
    "gfeatures_new = gfeatures_new.sort_values(by='anomaly_score_new', ascending=True)"
   ]
  },
  {
   "cell_type": "code",
   "execution_count": 64,
   "metadata": {},
   "outputs": [
    {
     "data": {
      "text/html": [
       "<div>\n",
       "<style scoped>\n",
       "    .dataframe tbody tr th:only-of-type {\n",
       "        vertical-align: middle;\n",
       "    }\n",
       "\n",
       "    .dataframe tbody tr th {\n",
       "        vertical-align: top;\n",
       "    }\n",
       "\n",
       "    .dataframe thead th {\n",
       "        text-align: right;\n",
       "    }\n",
       "</style>\n",
       "<table border=\"1\" class=\"dataframe\">\n",
       "  <thead>\n",
       "    <tr style=\"text-align: right;\">\n",
       "      <th></th>\n",
       "      <th>Degree</th>\n",
       "      <th>Closeness</th>\n",
       "      <th>Betweenness</th>\n",
       "      <th>Eigenvector</th>\n",
       "      <th>Katz</th>\n",
       "      <th>PageRank</th>\n",
       "      <th>GlobalReaching</th>\n",
       "      <th>anomaly_score_new</th>\n",
       "      <th>Email</th>\n",
       "    </tr>\n",
       "  </thead>\n",
       "  <tbody>\n",
       "    <tr>\n",
       "      <th>6055</th>\n",
       "      <td>0.089680</td>\n",
       "      <td>0.420841</td>\n",
       "      <td>0.055051</td>\n",
       "      <td>0.161914</td>\n",
       "      <td>-0.035107</td>\n",
       "      <td>0.006277</td>\n",
       "      <td>0.169253</td>\n",
       "      <td>0.000000</td>\n",
       "      <td>tana.jones@enron.com</td>\n",
       "    </tr>\n",
       "    <tr>\n",
       "      <th>5508</th>\n",
       "      <td>0.089021</td>\n",
       "      <td>0.412793</td>\n",
       "      <td>0.060268</td>\n",
       "      <td>0.145712</td>\n",
       "      <td>-0.013104</td>\n",
       "      <td>0.006971</td>\n",
       "      <td>0.169253</td>\n",
       "      <td>0.006204</td>\n",
       "      <td>sara.shackleton@enron.com</td>\n",
       "    </tr>\n",
       "    <tr>\n",
       "      <th>5461</th>\n",
       "      <td>0.078470</td>\n",
       "      <td>0.416764</td>\n",
       "      <td>0.047374</td>\n",
       "      <td>0.139745</td>\n",
       "      <td>-0.020649</td>\n",
       "      <td>0.005012</td>\n",
       "      <td>0.169253</td>\n",
       "      <td>0.011950</td>\n",
       "      <td>sally.beck@enron.com</td>\n",
       "    </tr>\n",
       "    <tr>\n",
       "      <th>2719</th>\n",
       "      <td>0.075997</td>\n",
       "      <td>0.406160</td>\n",
       "      <td>0.074481</td>\n",
       "      <td>0.101626</td>\n",
       "      <td>-0.036010</td>\n",
       "      <td>0.006386</td>\n",
       "      <td>0.169253</td>\n",
       "      <td>0.012076</td>\n",
       "      <td>jeff.dasovich@enron.com</td>\n",
       "    </tr>\n",
       "    <tr>\n",
       "      <th>6414</th>\n",
       "      <td>0.070392</td>\n",
       "      <td>0.413610</td>\n",
       "      <td>0.048093</td>\n",
       "      <td>0.112578</td>\n",
       "      <td>-0.032004</td>\n",
       "      <td>0.005085</td>\n",
       "      <td>0.169253</td>\n",
       "      <td>0.013875</td>\n",
       "      <td>vince.kaminski@enron.com</td>\n",
       "    </tr>\n",
       "    <tr>\n",
       "      <th>3862</th>\n",
       "      <td>0.073689</td>\n",
       "      <td>0.438231</td>\n",
       "      <td>0.038231</td>\n",
       "      <td>0.181811</td>\n",
       "      <td>0.002852</td>\n",
       "      <td>0.004373</td>\n",
       "      <td>0.169253</td>\n",
       "      <td>0.018649</td>\n",
       "      <td>louise.kitchen@enron.com</td>\n",
       "    </tr>\n",
       "    <tr>\n",
       "      <th>4072</th>\n",
       "      <td>0.071381</td>\n",
       "      <td>0.411143</td>\n",
       "      <td>0.035666</td>\n",
       "      <td>0.146828</td>\n",
       "      <td>0.013000</td>\n",
       "      <td>0.004861</td>\n",
       "      <td>0.169253</td>\n",
       "      <td>0.020344</td>\n",
       "      <td>mark.taylor@enron.com</td>\n",
       "    </tr>\n",
       "    <tr>\n",
       "      <th>5910</th>\n",
       "      <td>0.064952</td>\n",
       "      <td>0.418460</td>\n",
       "      <td>0.035116</td>\n",
       "      <td>0.133102</td>\n",
       "      <td>-0.008571</td>\n",
       "      <td>0.004340</td>\n",
       "      <td>0.169253</td>\n",
       "      <td>0.024351</td>\n",
       "      <td>steven.kean@enron.com</td>\n",
       "    </tr>\n",
       "    <tr>\n",
       "      <th>2208</th>\n",
       "      <td>0.063963</td>\n",
       "      <td>0.406296</td>\n",
       "      <td>0.046167</td>\n",
       "      <td>0.095653</td>\n",
       "      <td>0.031617</td>\n",
       "      <td>0.004840</td>\n",
       "      <td>0.169253</td>\n",
       "      <td>0.026520</td>\n",
       "      <td>gerald.nemec@enron.com</td>\n",
       "    </tr>\n",
       "    <tr>\n",
       "      <th>3039</th>\n",
       "      <td>0.055061</td>\n",
       "      <td>0.414373</td>\n",
       "      <td>0.023220</td>\n",
       "      <td>0.142356</td>\n",
       "      <td>0.038464</td>\n",
       "      <td>0.003356</td>\n",
       "      <td>0.169253</td>\n",
       "      <td>0.039622</td>\n",
       "      <td>john.lavorato@enron.com</td>\n",
       "    </tr>\n",
       "  </tbody>\n",
       "</table>\n",
       "</div>"
      ],
      "text/plain": [
       "        Degree  Closeness  Betweenness  Eigenvector      Katz  PageRank  \\\n",
       "6055  0.089680   0.420841     0.055051     0.161914 -0.035107  0.006277   \n",
       "5508  0.089021   0.412793     0.060268     0.145712 -0.013104  0.006971   \n",
       "5461  0.078470   0.416764     0.047374     0.139745 -0.020649  0.005012   \n",
       "2719  0.075997   0.406160     0.074481     0.101626 -0.036010  0.006386   \n",
       "6414  0.070392   0.413610     0.048093     0.112578 -0.032004  0.005085   \n",
       "3862  0.073689   0.438231     0.038231     0.181811  0.002852  0.004373   \n",
       "4072  0.071381   0.411143     0.035666     0.146828  0.013000  0.004861   \n",
       "5910  0.064952   0.418460     0.035116     0.133102 -0.008571  0.004340   \n",
       "2208  0.063963   0.406296     0.046167     0.095653  0.031617  0.004840   \n",
       "3039  0.055061   0.414373     0.023220     0.142356  0.038464  0.003356   \n",
       "\n",
       "      GlobalReaching  anomaly_score_new                      Email  \n",
       "6055        0.169253           0.000000       tana.jones@enron.com  \n",
       "5508        0.169253           0.006204  sara.shackleton@enron.com  \n",
       "5461        0.169253           0.011950       sally.beck@enron.com  \n",
       "2719        0.169253           0.012076    jeff.dasovich@enron.com  \n",
       "6414        0.169253           0.013875   vince.kaminski@enron.com  \n",
       "3862        0.169253           0.018649   louise.kitchen@enron.com  \n",
       "4072        0.169253           0.020344      mark.taylor@enron.com  \n",
       "5910        0.169253           0.024351      steven.kean@enron.com  \n",
       "2208        0.169253           0.026520     gerald.nemec@enron.com  \n",
       "3039        0.169253           0.039622    john.lavorato@enron.com  "
      ]
     },
     "execution_count": 64,
     "metadata": {},
     "output_type": "execute_result"
    }
   ],
   "source": [
    "gfeatures_new.head(10)"
   ]
  },
  {
   "cell_type": "code",
   "execution_count": 65,
   "metadata": {},
   "outputs": [
    {
     "data": {
      "text/html": [
       "<div>\n",
       "<style scoped>\n",
       "    .dataframe tbody tr th:only-of-type {\n",
       "        vertical-align: middle;\n",
       "    }\n",
       "\n",
       "    .dataframe tbody tr th {\n",
       "        vertical-align: top;\n",
       "    }\n",
       "\n",
       "    .dataframe thead th {\n",
       "        text-align: right;\n",
       "    }\n",
       "</style>\n",
       "<table border=\"1\" class=\"dataframe\">\n",
       "  <thead>\n",
       "    <tr style=\"text-align: right;\">\n",
       "      <th></th>\n",
       "      <th>Degree</th>\n",
       "      <th>Closeness</th>\n",
       "      <th>Betweenness</th>\n",
       "      <th>Eigenvector</th>\n",
       "      <th>Katz</th>\n",
       "      <th>PageRank</th>\n",
       "      <th>GlobalReaching</th>\n",
       "      <th>anomaly_score_new</th>\n",
       "      <th>Email</th>\n",
       "    </tr>\n",
       "  </thead>\n",
       "  <tbody>\n",
       "    <tr>\n",
       "      <th>6055</th>\n",
       "      <td>0.09</td>\n",
       "      <td>0.42</td>\n",
       "      <td>0.06</td>\n",
       "      <td>0.16</td>\n",
       "      <td>-0.04</td>\n",
       "      <td>0.01</td>\n",
       "      <td>0.17</td>\n",
       "      <td>0.00</td>\n",
       "      <td>tana.jones@enron.com</td>\n",
       "    </tr>\n",
       "    <tr>\n",
       "      <th>5508</th>\n",
       "      <td>0.09</td>\n",
       "      <td>0.41</td>\n",
       "      <td>0.06</td>\n",
       "      <td>0.15</td>\n",
       "      <td>-0.01</td>\n",
       "      <td>0.01</td>\n",
       "      <td>0.17</td>\n",
       "      <td>0.01</td>\n",
       "      <td>sara.shackleton@enron.com</td>\n",
       "    </tr>\n",
       "    <tr>\n",
       "      <th>5461</th>\n",
       "      <td>0.08</td>\n",
       "      <td>0.42</td>\n",
       "      <td>0.05</td>\n",
       "      <td>0.14</td>\n",
       "      <td>-0.02</td>\n",
       "      <td>0.01</td>\n",
       "      <td>0.17</td>\n",
       "      <td>0.01</td>\n",
       "      <td>sally.beck@enron.com</td>\n",
       "    </tr>\n",
       "    <tr>\n",
       "      <th>2719</th>\n",
       "      <td>0.08</td>\n",
       "      <td>0.41</td>\n",
       "      <td>0.07</td>\n",
       "      <td>0.10</td>\n",
       "      <td>-0.04</td>\n",
       "      <td>0.01</td>\n",
       "      <td>0.17</td>\n",
       "      <td>0.01</td>\n",
       "      <td>jeff.dasovich@enron.com</td>\n",
       "    </tr>\n",
       "    <tr>\n",
       "      <th>6414</th>\n",
       "      <td>0.07</td>\n",
       "      <td>0.41</td>\n",
       "      <td>0.05</td>\n",
       "      <td>0.11</td>\n",
       "      <td>-0.03</td>\n",
       "      <td>0.01</td>\n",
       "      <td>0.17</td>\n",
       "      <td>0.01</td>\n",
       "      <td>vince.kaminski@enron.com</td>\n",
       "    </tr>\n",
       "    <tr>\n",
       "      <th>3862</th>\n",
       "      <td>0.07</td>\n",
       "      <td>0.44</td>\n",
       "      <td>0.04</td>\n",
       "      <td>0.18</td>\n",
       "      <td>0.00</td>\n",
       "      <td>0.00</td>\n",
       "      <td>0.17</td>\n",
       "      <td>0.02</td>\n",
       "      <td>louise.kitchen@enron.com</td>\n",
       "    </tr>\n",
       "    <tr>\n",
       "      <th>4072</th>\n",
       "      <td>0.07</td>\n",
       "      <td>0.41</td>\n",
       "      <td>0.04</td>\n",
       "      <td>0.15</td>\n",
       "      <td>0.01</td>\n",
       "      <td>0.00</td>\n",
       "      <td>0.17</td>\n",
       "      <td>0.02</td>\n",
       "      <td>mark.taylor@enron.com</td>\n",
       "    </tr>\n",
       "    <tr>\n",
       "      <th>5910</th>\n",
       "      <td>0.06</td>\n",
       "      <td>0.42</td>\n",
       "      <td>0.04</td>\n",
       "      <td>0.13</td>\n",
       "      <td>-0.01</td>\n",
       "      <td>0.00</td>\n",
       "      <td>0.17</td>\n",
       "      <td>0.02</td>\n",
       "      <td>steven.kean@enron.com</td>\n",
       "    </tr>\n",
       "    <tr>\n",
       "      <th>2208</th>\n",
       "      <td>0.06</td>\n",
       "      <td>0.41</td>\n",
       "      <td>0.05</td>\n",
       "      <td>0.10</td>\n",
       "      <td>0.03</td>\n",
       "      <td>0.00</td>\n",
       "      <td>0.17</td>\n",
       "      <td>0.03</td>\n",
       "      <td>gerald.nemec@enron.com</td>\n",
       "    </tr>\n",
       "    <tr>\n",
       "      <th>3039</th>\n",
       "      <td>0.06</td>\n",
       "      <td>0.41</td>\n",
       "      <td>0.02</td>\n",
       "      <td>0.14</td>\n",
       "      <td>0.04</td>\n",
       "      <td>0.00</td>\n",
       "      <td>0.17</td>\n",
       "      <td>0.04</td>\n",
       "      <td>john.lavorato@enron.com</td>\n",
       "    </tr>\n",
       "  </tbody>\n",
       "</table>\n",
       "</div>"
      ],
      "text/plain": [
       "      Degree  Closeness  Betweenness  Eigenvector  Katz  PageRank  \\\n",
       "6055    0.09       0.42         0.06         0.16 -0.04      0.01   \n",
       "5508    0.09       0.41         0.06         0.15 -0.01      0.01   \n",
       "5461    0.08       0.42         0.05         0.14 -0.02      0.01   \n",
       "2719    0.08       0.41         0.07         0.10 -0.04      0.01   \n",
       "6414    0.07       0.41         0.05         0.11 -0.03      0.01   \n",
       "3862    0.07       0.44         0.04         0.18  0.00      0.00   \n",
       "4072    0.07       0.41         0.04         0.15  0.01      0.00   \n",
       "5910    0.06       0.42         0.04         0.13 -0.01      0.00   \n",
       "2208    0.06       0.41         0.05         0.10  0.03      0.00   \n",
       "3039    0.06       0.41         0.02         0.14  0.04      0.00   \n",
       "\n",
       "      GlobalReaching  anomaly_score_new                      Email  \n",
       "6055            0.17               0.00       tana.jones@enron.com  \n",
       "5508            0.17               0.01  sara.shackleton@enron.com  \n",
       "5461            0.17               0.01       sally.beck@enron.com  \n",
       "2719            0.17               0.01    jeff.dasovich@enron.com  \n",
       "6414            0.17               0.01   vince.kaminski@enron.com  \n",
       "3862            0.17               0.02   louise.kitchen@enron.com  \n",
       "4072            0.17               0.02      mark.taylor@enron.com  \n",
       "5910            0.17               0.02      steven.kean@enron.com  \n",
       "2208            0.17               0.03     gerald.nemec@enron.com  \n",
       "3039            0.17               0.04    john.lavorato@enron.com  "
      ]
     },
     "execution_count": 65,
     "metadata": {},
     "output_type": "execute_result"
    }
   ],
   "source": [
    "gfeatures_new.round(2).head(10)"
   ]
  },
  {
   "cell_type": "code",
   "execution_count": 71,
   "metadata": {},
   "outputs": [
    {
     "name": "stdout",
     "output_type": "stream",
     "text": [
      "Name: \n",
      "Type: Graph\n",
      "Number of nodes: 300\n",
      "Number of edges: 5016\n",
      "Average degree:  33.4400\n"
     ]
    }
   ],
   "source": [
    "print(nx.info(lcc_enron_small))"
   ]
  },
  {
   "cell_type": "markdown",
   "metadata": {},
   "source": [
    "Let us try to contract, by reducing the graph size based on same neighbors, which is called quotient graph"
   ]
  },
  {
   "cell_type": "code",
   "execution_count": 75,
   "metadata": {},
   "outputs": [],
   "source": [
    "same_neighbors = lambda u, v: (u not in lcc_enron_small[v] and v not in lcc_enron_small[u] and lcc_enron_small[u] == lcc_enron_small[v])"
   ]
  },
  {
   "cell_type": "code",
   "execution_count": 76,
   "metadata": {},
   "outputs": [],
   "source": [
    "q_enron = nx.quotient_graph(lcc_enron_small, same_neighbors)"
   ]
  },
  {
   "cell_type": "code",
   "execution_count": 77,
   "metadata": {},
   "outputs": [
    {
     "name": "stdout",
     "output_type": "stream",
     "text": [
      "Name: \n",
      "Type: Graph\n",
      "Number of nodes: 300\n",
      "Number of edges: 4874\n",
      "Average degree:  32.4933\n"
     ]
    }
   ],
   "source": [
    "print(nx.info(q_enron))"
   ]
  },
  {
   "cell_type": "code",
   "execution_count": 78,
   "metadata": {},
   "outputs": [],
   "source": [
    "from community import community_louvain\n",
    "parts = community_louvain.best_partition(q_enron)\n",
    "values = [parts.get(node) for node in q_enron.nodes()]"
   ]
  },
  {
   "cell_type": "code",
   "execution_count": 79,
   "metadata": {},
   "outputs": [
    {
     "data": {
      "image/png": "[encoded data removed]",
      "text/plain": [
       "<Figure size 432x288 with 1 Axes>"
      ]
     },
     "metadata": {},
     "output_type": "display_data"
    }
   ],
   "source": [
    "plt.axis(\"off\")\n",
    "spring_pos=nx.spring_layout(q_enron)\n",
    "nx.draw_networkx(q_enron, pos = spring_pos, cmap = plt.get_cmap(\"jet\"), node_color = values, node_size = 35, with_labels = False)"
   ]
  }
 ],
 "metadata": {
  "kernelspec": {
   "display_name": "Python 3",
   "language": "python",
   "name": "python3"
  },
  "language_info": {
   "codemirror_mode": {
    "name": "ipython",
    "version": 3
   },
   "file_extension": ".py",
   "mimetype": "text/x-python",
   "name": "python",
   "nbconvert_exporter": "python",
   "pygments_lexer": "ipython3",
   "version": "3.7.6"
  }
 },
 "nbformat": 4,
 "nbformat_minor": 4
}
