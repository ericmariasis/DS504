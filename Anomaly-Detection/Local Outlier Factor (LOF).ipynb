{
 "cells": [
  {
   "cell_type": "markdown",
   "metadata": {},
   "source": [
    "# Local Outlier Factor (LOF)\n",
    "Unsupervised Outlier Detection using Local Outlier Factor (LOF). The anomaly score of each sample is called Local Outlier Factor. It measures the local deviation of density of a given sample with respect to its neighbors. It is local in that the anomaly score depends on how isolated the object is with respect to the surrounding neighborhood. More precisely, locality is given by k-nearest neighbors, whose distance is used to estimate the local density. By comparing the local density of a sample to the local densities of its neighbors, one can identify samples that have a substantially lower density than their neighbors. These are considered outliers."
   ]
  },
  {
   "cell_type": "markdown",
   "metadata": {},
   "source": [
    "### Import required libraries/modules"
   ]
  },
  {
   "cell_type": "code",
   "execution_count": 1,
   "metadata": {},
   "outputs": [],
   "source": [
    "%matplotlib inline\n",
    "import numpy as np\n",
    "import pandas as pd\n",
    "import scipy as sp\n",
    "import matplotlib.pyplot as plt\n",
    "from sklearn.model_selection import train_test_split\n",
    "from sklearn.neighbors import LocalOutlierFactor\n",
    "from sklearn.preprocessing import StandardScaler, MinMaxScaler, Normalizer\n",
    "from sklearn.metrics import average_precision_score, confusion_matrix, f1_score, precision_recall_curve, accuracy_score, precision_score, recall_score\n",
    "from collections import Counter"
   ]
  },
  {
   "cell_type": "markdown",
   "metadata": {},
   "source": [
    "We are going to work with HTTP access data from an open dataset from the KDD Cup '99, which consists of millions of network accesses containing multiple different types of attacks (alongside normal accesses) from a simulated military network. You can get the dataset from http://kdd.ics.uci.edu/databases/kddcup99/kddcup99.html. We're using the 10 percent set containing a little under half a million datapoints and 3 (of 41) features (columns) that are relevant for HTTP requests."
   ]
  },
  {
   "cell_type": "markdown",
   "metadata": {},
   "source": [
    "### Load the data"
   ]
  },
  {
   "cell_type": "code",
   "execution_count": 2,
   "metadata": {},
   "outputs": [],
   "source": [
    "kdd = pd.read_csv('data/kddcup.data_10_percent_corrected.csv')"
   ]
  },
  {
   "cell_type": "code",
   "execution_count": 3,
   "metadata": {},
   "outputs": [
    {
     "name": "stdout",
     "output_type": "stream",
     "text": [
      "   duration protocol_type service flag  src_bytes  dst_bytes  land  \\\n",
      "0         0           tcp    http   SF        181       5450     0   \n",
      "1         0           tcp    http   SF        239        486     0   \n",
      "2         0           tcp    http   SF        235       1337     0   \n",
      "3         0           tcp    http   SF        219       1337     0   \n",
      "4         0           tcp    http   SF        217       2032     0   \n",
      "\n",
      "   wrong_fragment  urgent  hot   ...     dst_host_srv_count  \\\n",
      "0               0       0    0   ...                      9   \n",
      "1               0       0    0   ...                     19   \n",
      "2               0       0    0   ...                     29   \n",
      "3               0       0    0   ...                     39   \n",
      "4               0       0    0   ...                     49   \n",
      "\n",
      "   dst_host_same_srv_rate  dst_host_diff_srv_rate  \\\n",
      "0                     1.0                     0.0   \n",
      "1                     1.0                     0.0   \n",
      "2                     1.0                     0.0   \n",
      "3                     1.0                     0.0   \n",
      "4                     1.0                     0.0   \n",
      "\n",
      "   dst_host_same_src_port_rate  dst_host_srv_diff_host_rate  \\\n",
      "0                         0.11                          0.0   \n",
      "1                         0.05                          0.0   \n",
      "2                         0.03                          0.0   \n",
      "3                         0.03                          0.0   \n",
      "4                         0.02                          0.0   \n",
      "\n",
      "   dst_host_serror_rate  dst_host_srv_serror_rate  dst_host_rerror_rate  \\\n",
      "0                   0.0                       0.0                   0.0   \n",
      "1                   0.0                       0.0                   0.0   \n",
      "2                   0.0                       0.0                   0.0   \n",
      "3                   0.0                       0.0                   0.0   \n",
      "4                   0.0                       0.0                   0.0   \n",
      "\n",
      "   dst_host_srv_rerror_rate    label  \n",
      "0                       0.0  normal.  \n",
      "1                       0.0  normal.  \n",
      "2                       0.0  normal.  \n",
      "3                       0.0  normal.  \n",
      "4                       0.0  normal.  \n",
      "\n",
      "[5 rows x 42 columns]\n"
     ]
    }
   ],
   "source": [
    "print(kdd.head())"
   ]
  },
  {
   "cell_type": "markdown",
   "metadata": {},
   "source": [
    "### Filter the data"
   ]
  },
  {
   "cell_type": "markdown",
   "metadata": {},
   "source": [
    "We would like to look at only the logged-in HTTP accesses from the data"
   ]
  },
  {
   "cell_type": "code",
   "execution_count": 4,
   "metadata": {},
   "outputs": [
    {
     "data": {
      "text/plain": [
       "duration                         int64\n",
       "protocol_type                   object\n",
       "service                         object\n",
       "flag                            object\n",
       "src_bytes                        int64\n",
       "dst_bytes                        int64\n",
       "land                             int64\n",
       "wrong_fragment                   int64\n",
       "urgent                           int64\n",
       "hot                              int64\n",
       "num_failed_logins                int64\n",
       "logged_in                        int64\n",
       "num_compromised                  int64\n",
       "root_shell                       int64\n",
       "su_attempted                     int64\n",
       "num_root                         int64\n",
       "num_file_creations               int64\n",
       "num_shells                       int64\n",
       "num_access_files                 int64\n",
       "num_outbound_cmds                int64\n",
       "is_host_login                    int64\n",
       "is_guest_login                   int64\n",
       "count                            int64\n",
       "srv_count                        int64\n",
       "serror_rate                    float64\n",
       "srv_serror_rate                float64\n",
       "rerror_rate                    float64\n",
       "srv_rerror_rate                float64\n",
       "same_srv_rate                  float64\n",
       "diff_srv_rate                  float64\n",
       "srv_diff_host_rate             float64\n",
       "dst_host_count                   int64\n",
       "dst_host_srv_count               int64\n",
       "dst_host_same_srv_rate         float64\n",
       "dst_host_diff_srv_rate         float64\n",
       "dst_host_same_src_port_rate    float64\n",
       "dst_host_srv_diff_host_rate    float64\n",
       "dst_host_serror_rate           float64\n",
       "dst_host_srv_serror_rate       float64\n",
       "dst_host_rerror_rate           float64\n",
       "dst_host_srv_rerror_rate       float64\n",
       "label                           object\n",
       "dtype: object"
      ]
     },
     "execution_count": 4,
     "metadata": {},
     "output_type": "execute_result"
    }
   ],
   "source": [
    "kdd.dtypes"
   ]
  },
  {
   "cell_type": "code",
   "execution_count": 5,
   "metadata": {},
   "outputs": [],
   "source": [
    "kdd = kdd[kdd.service=='http']"
   ]
  },
  {
   "cell_type": "code",
   "execution_count": 6,
   "metadata": {},
   "outputs": [
    {
     "data": {
      "text/plain": [
       "array(['http'], dtype=object)"
      ]
     },
     "execution_count": 6,
     "metadata": {},
     "output_type": "execute_result"
    }
   ],
   "source": [
    "kdd.service.unique()"
   ]
  },
  {
   "cell_type": "code",
   "execution_count": 7,
   "metadata": {},
   "outputs": [],
   "source": [
    "kdd = kdd[kdd.logged_in==1]"
   ]
  },
  {
   "cell_type": "code",
   "execution_count": 8,
   "metadata": {},
   "outputs": [
    {
     "data": {
      "text/plain": [
       "array([1], dtype=int64)"
      ]
     },
     "execution_count": 8,
     "metadata": {},
     "output_type": "execute_result"
    }
   ],
   "source": [
    "kdd.logged_in.unique()"
   ]
  },
  {
   "cell_type": "code",
   "execution_count": 9,
   "metadata": {
    "scrolled": false
   },
   "outputs": [
    {
     "data": {
      "text/plain": [
       "<matplotlib.axes._subplots.AxesSubplot at 0x1beac82b438>"
      ]
     },
     "execution_count": 9,
     "metadata": {},
     "output_type": "execute_result"
    },
    {
     "data": {
      "image/png": "[encoded data removed]",
      "text/plain": [
       "<Figure size 432x288 with 1 Axes>"
      ]
     },
     "metadata": {},
     "output_type": "display_data"
    }
   ],
   "source": [
    "kdd.label.value_counts().plot(kind='bar')"
   ]
  },
  {
   "cell_type": "markdown",
   "metadata": {},
   "source": [
    "### Relevant Feature Selection\n",
    "The full dataset contains 41 features with data relating to TCP packets, SMTP access, etc. but only 3 of those are relevant for HTTP. We need to extract those 3 features so we are not training with irrelevant features that will add noise to our model. Also, SVM implementations work better with normalised data. This yields both better accuracy and reduces numerical instability that is inherent in their implementation."
   ]
  },
  {
   "cell_type": "code",
   "execution_count": 10,
   "metadata": {},
   "outputs": [],
   "source": [
    "features = ['duration','src_bytes','dst_bytes','label']\n",
    "kdd = kdd[features]"
   ]
  },
  {
   "cell_type": "code",
   "execution_count": 11,
   "metadata": {},
   "outputs": [
    {
     "data": {
      "text/plain": [
       "duration      int64\n",
       "src_bytes     int64\n",
       "dst_bytes     int64\n",
       "label        object\n",
       "dtype: object"
      ]
     },
     "execution_count": 11,
     "metadata": {},
     "output_type": "execute_result"
    }
   ],
   "source": [
    "kdd.dtypes"
   ]
  },
  {
   "cell_type": "code",
   "execution_count": 12,
   "metadata": {
    "scrolled": true
   },
   "outputs": [
    {
     "name": "stdout",
     "output_type": "stream",
     "text": [
      "           duration     src_bytes     dst_bytes\n",
      "count  58725.000000  58725.000000  5.872500e+04\n",
      "mean       0.686641   2282.454593  4.658200e+03\n",
      "std       14.394064  10259.946866  1.982101e+04\n",
      "min        0.000000      0.000000  0.000000e+00\n",
      "25%        0.000000    218.000000  6.860000e+02\n",
      "50%        0.000000    253.000000  1.724000e+03\n",
      "75%        0.000000    309.000000  5.053000e+03\n",
      "max     1440.000000  54540.000000  3.916592e+06\n"
     ]
    }
   ],
   "source": [
    "print(kdd.describe())"
   ]
  },
  {
   "cell_type": "code",
   "execution_count": 13,
   "metadata": {},
   "outputs": [],
   "source": [
    "#kdd_scaled = kdd\n",
    "#kdd_scaled[\"duration\"] = np.log((kdd[\"duration\"] + 0.1).astype(float))  \n",
    "#kdd_scaled[\"src_bytes\"] = np.log((kdd[\"src_bytes\"] + 0.1).astype(float))  \n",
    "#kdd_scaled[\"dst_bytes\"] = np.log((kdd[\"dst_bytes\"] + 0.1).astype(float)) "
   ]
  },
  {
   "cell_type": "markdown",
   "metadata": {},
   "source": [
    "Normal(inlier) is labelled with 1 and abnormal(outlier) is labelled with -1"
   ]
  },
  {
   "cell_type": "code",
   "execution_count": 14,
   "metadata": {},
   "outputs": [],
   "source": [
    "kdd['attack'] = np.where(kdd['label']=='normal.',1,-1)"
   ]
  },
  {
   "cell_type": "code",
   "execution_count": 15,
   "metadata": {},
   "outputs": [
    {
     "name": "stdout",
     "output_type": "stream",
     "text": [
      "Counter({1: 56516, -1: 2209})\n"
     ]
    }
   ],
   "source": [
    "frac = Counter(kdd.attack)\n",
    "print(frac)"
   ]
  },
  {
   "cell_type": "code",
   "execution_count": 16,
   "metadata": {},
   "outputs": [
    {
     "name": "stdout",
     "output_type": "stream",
     "text": [
      "Outliers fraction: 0.04\n"
     ]
    }
   ],
   "source": [
    "print('Outliers fraction:', round(list(frac.values())[1]/(list(frac.values())[0]+list(frac.values())[1]),2))"
   ]
  },
  {
   "cell_type": "code",
   "execution_count": 17,
   "metadata": {
    "scrolled": true
   },
   "outputs": [
    {
     "data": {
      "text/plain": [
       "duration      int64\n",
       "src_bytes     int64\n",
       "dst_bytes     int64\n",
       "label        object\n",
       "attack        int32\n",
       "dtype: object"
      ]
     },
     "execution_count": 17,
     "metadata": {},
     "output_type": "execute_result"
    }
   ],
   "source": [
    "kdd.dtypes"
   ]
  },
  {
   "cell_type": "code",
   "execution_count": 18,
   "metadata": {},
   "outputs": [
    {
     "data": {
      "text/plain": [
       "array(['normal.', 'ipsweep.', 'back.', 'phf.', 'satan.'], dtype=object)"
      ]
     },
     "execution_count": 18,
     "metadata": {},
     "output_type": "execute_result"
    }
   ],
   "source": [
    "kdd.label.unique()"
   ]
  },
  {
   "cell_type": "code",
   "execution_count": 19,
   "metadata": {},
   "outputs": [
    {
     "data": {
      "text/plain": [
       "array([ 1, -1], dtype=int64)"
      ]
     },
     "execution_count": 19,
     "metadata": {},
     "output_type": "execute_result"
    }
   ],
   "source": [
    "kdd.attack.unique()"
   ]
  },
  {
   "cell_type": "code",
   "execution_count": 20,
   "metadata": {},
   "outputs": [],
   "source": [
    "X_train, X_test, y_train, y_test = train_test_split(kdd.iloc[:, 0:3],kdd['attack'], test_size=0.2, random_state=2018)"
   ]
  },
  {
   "cell_type": "code",
   "execution_count": 21,
   "metadata": {},
   "outputs": [
    {
     "name": "stdout",
     "output_type": "stream",
     "text": [
      "Sneak peek at the Training Data: \n",
      "         duration  src_bytes  dst_bytes\n",
      "492218         0        339       3090\n",
      "492677         0        284       3656\n",
      "21093          0        339        250\n",
      "32631          0        201       4841\n",
      "176            0        212      24572\n",
      "Shape of Training Data: (46980, 3)\n",
      "Shape of Training Labels: (46980,)\n",
      "Shape of Test Data: (11745, 3)\n",
      "Shape of Test Labels: (11745,)\n"
     ]
    }
   ],
   "source": [
    "print('Sneak peek at the Training Data: \\n' ,X_train.head())\n",
    "print('Shape of Training Data:',X_train.shape)\n",
    "print('Shape of Training Labels:',y_train.shape)\n",
    "print('Shape of Test Data:',X_test.shape)\n",
    "print('Shape of Test Labels:',y_test.shape)"
   ]
  },
  {
   "cell_type": "code",
   "execution_count": 22,
   "metadata": {},
   "outputs": [
    {
     "name": "stdout",
     "output_type": "stream",
     "text": [
      "Counter({1: 45217, -1: 1763})\n",
      "Counter({1: 11299, -1: 446})\n"
     ]
    }
   ],
   "source": [
    "print(Counter(y_train))\n",
    "print(Counter(y_test))"
   ]
  },
  {
   "cell_type": "code",
   "execution_count": 23,
   "metadata": {},
   "outputs": [],
   "source": [
    "train_error = []\n",
    "\n",
    "# Calculating error for K values between 1 and 40\n",
    "for i in range(1, 50):  \n",
    "    lof = LocalOutlierFactor(n_neighbors=i, n_jobs=-1)\n",
    "    lof.fit(X_train)\n",
    "    pred_i = lof.fit_predict(X_train)\n",
    "    train_error.append(np.mean(pred_i != y_train))"
   ]
  },
  {
   "cell_type": "code",
   "execution_count": 24,
   "metadata": {
    "scrolled": true
   },
   "outputs": [
    {
     "data": {
      "text/plain": [
       "Text(0,0.5,'Training Error')"
      ]
     },
     "execution_count": 24,
     "metadata": {},
     "output_type": "execute_result"
    },
    {
     "data": {
      "image/png": "[encoded data removed]",
      "text/plain": [
       "<Figure size 432x288 with 1 Axes>"
      ]
     },
     "metadata": {},
     "output_type": "display_data"
    }
   ],
   "source": [
    "plt.plot(range(1, 50), train_error, color='#c41e3a', linestyle='-',linewidth=3)\n",
    "plt.xlabel('k-Value', fontsize=12, fontweight='bold')  \n",
    "plt.ylabel('Training Error', fontsize=12, fontweight='bold') "
   ]
  },
  {
   "cell_type": "code",
   "execution_count": 25,
   "metadata": {},
   "outputs": [],
   "source": [
    "test_error = []\n",
    "\n",
    "# Calculating error for K values between 1 and 40\n",
    "for i in range(1, 50):  \n",
    "    lof = LocalOutlierFactor(n_neighbors=i, n_jobs=-1)\n",
    "    lof.fit(X_train)\n",
    "    pred_i = lof.fit_predict(X_test)\n",
    "    test_error.append(np.mean(pred_i != y_test))"
   ]
  },
  {
   "cell_type": "code",
   "execution_count": 26,
   "metadata": {},
   "outputs": [
    {
     "data": {
      "text/plain": [
       "Text(0,0.5,'Validation Error')"
      ]
     },
     "execution_count": 26,
     "metadata": {},
     "output_type": "execute_result"
    },
    {
     "data": {
      "image/png": "[encoded data removed]",
      "text/plain": [
       "<Figure size 432x288 with 1 Axes>"
      ]
     },
     "metadata": {},
     "output_type": "display_data"
    }
   ],
   "source": [
    "plt.plot(range(1, 50), test_error, color='#0576cf', linestyle='-',linewidth=3)\n",
    "plt.xlabel('k-Value', fontsize=12, fontweight='bold')  \n",
    "plt.ylabel('Validation Error', fontsize=12, fontweight='bold') "
   ]
  },
  {
   "cell_type": "code",
   "execution_count": 27,
   "metadata": {},
   "outputs": [
    {
     "data": {
      "text/plain": [
       "Text(0,0.5,'Training Error')"
      ]
     },
     "execution_count": 27,
     "metadata": {},
     "output_type": "execute_result"
    },
    {
     "data": {
      "image/png": "[encoded data removed]",
      "text/plain": [
       "<Figure size 432x288 with 1 Axes>"
      ]
     },
     "metadata": {},
     "output_type": "display_data"
    }
   ],
   "source": [
    "train_error = []\n",
    "\n",
    "# Calculating error for K values between 1 and 40\n",
    "for i in range(1, 50):  \n",
    "    lof = LocalOutlierFactor(leaf_size=i, n_jobs=-1, n_neighbors=30)\n",
    "    lof.fit(X_train)\n",
    "    pred_i = lof.fit_predict(X_train)\n",
    "    train_error.append(np.mean(pred_i != y_train))\n",
    "    \n",
    "plt.plot(range(1, 50), train_error, color='#c41e3a', linestyle='-',linewidth=3)\n",
    "plt.xlabel('Leaf Size', fontsize=12, fontweight='bold')  \n",
    "plt.ylabel('Training Error', fontsize=12, fontweight='bold') "
   ]
  },
  {
   "cell_type": "code",
   "execution_count": 28,
   "metadata": {},
   "outputs": [
    {
     "data": {
      "text/plain": [
       "Text(0,0.5,'Validation Error')"
      ]
     },
     "execution_count": 28,
     "metadata": {},
     "output_type": "execute_result"
    },
    {
     "data": {
      "image/png": "[encoded data removed]",
      "text/plain": [
       "<Figure size 432x288 with 1 Axes>"
      ]
     },
     "metadata": {},
     "output_type": "display_data"
    }
   ],
   "source": [
    "test_error = []\n",
    "\n",
    "# Calculating error for K values between 1 and 40\n",
    "for i in range(1, 50):  \n",
    "    lof = LocalOutlierFactor(leaf_size=i, n_jobs=-1, n_neighbors=30)\n",
    "    lof.fit(X_train)\n",
    "    pred_i = lof.fit_predict(X_test)\n",
    "    test_error.append(np.mean(pred_i != y_test))\n",
    "\n",
    "plt.plot(range(1, 50), test_error, color='#0576cf', linestyle='-',linewidth=3)\n",
    "plt.xlabel('Leaf Size', fontsize=12, fontweight='bold')  \n",
    "plt.ylabel('Validation Error', fontsize=12, fontweight='bold')"
   ]
  },
  {
   "cell_type": "code",
   "execution_count": 29,
   "metadata": {},
   "outputs": [
    {
     "data": {
      "text/plain": [
       "Text(0,0.5,'Training Error')"
      ]
     },
     "execution_count": 29,
     "metadata": {},
     "output_type": "execute_result"
    },
    {
     "data": {
      "image/png": "[encoded data removed]",
      "text/plain": [
       "<Figure size 432x288 with 1 Axes>"
      ]
     },
     "metadata": {},
     "output_type": "display_data"
    }
   ],
   "source": [
    "train_error = []\n",
    "\n",
    "# Calculating error for K values between 1 and 40\n",
    "for i in np.arange(0.01, 0.1, 0.01):  \n",
    "    lof = LocalOutlierFactor(contamination=i, n_jobs=-1, n_neighbors=30, leaf_size=10)\n",
    "    lof.fit(X_train)\n",
    "    pred_i = lof.fit_predict(X_train)\n",
    "    train_error.append(np.mean(pred_i != y_train))\n",
    "    \n",
    "plt.plot(np.arange(0.01, 0.1, 0.01), train_error, color='#c41e3a', linestyle='-',linewidth=3)\n",
    "plt.xlabel('Contamination', fontsize=12, fontweight='bold')  \n",
    "plt.ylabel('Training Error', fontsize=12, fontweight='bold') "
   ]
  },
  {
   "cell_type": "code",
   "execution_count": 30,
   "metadata": {},
   "outputs": [
    {
     "data": {
      "text/plain": [
       "Text(0,0.5,'Validation Error')"
      ]
     },
     "execution_count": 30,
     "metadata": {},
     "output_type": "execute_result"
    },
    {
     "data": {
      "image/png": "[encoded data removed]",
      "text/plain": [
       "<Figure size 432x288 with 1 Axes>"
      ]
     },
     "metadata": {},
     "output_type": "display_data"
    }
   ],
   "source": [
    "test_error = []\n",
    "\n",
    "# Calculating error for K values between 1 and 40\n",
    "for i in np.arange(0.01, 0.1, 0.01):  \n",
    "    lof = LocalOutlierFactor(contamination=i, n_jobs=-1, n_neighbors=30, leaf_size=10)\n",
    "    lof.fit(X_train)\n",
    "    pred_i = lof.fit_predict(X_test)\n",
    "    test_error.append(np.mean(pred_i != y_test))\n",
    "\n",
    "plt.plot(np.arange(0.01, 0.1, 0.01), test_error, color='#0576cf', linestyle='-',linewidth=3)\n",
    "plt.xlabel('Contamination', fontsize=12, fontweight='bold')  \n",
    "plt.ylabel('Validation Error', fontsize=12, fontweight='bold')"
   ]
  },
  {
   "cell_type": "markdown",
   "metadata": {},
   "source": [
    "### Fit the Local Outlier Factor Model on the Training Data without Labels"
   ]
  },
  {
   "cell_type": "code",
   "execution_count": 31,
   "metadata": {},
   "outputs": [
    {
     "data": {
      "text/plain": [
       "LocalOutlierFactor(algorithm='auto', contamination=0.01, leaf_size=10,\n",
       "          metric='minkowski', metric_params=None, n_jobs=-1,\n",
       "          n_neighbors=25, p=2)"
      ]
     },
     "execution_count": 31,
     "metadata": {},
     "output_type": "execute_result"
    }
   ],
   "source": [
    "lof = LocalOutlierFactor(n_neighbors=25, algorithm='auto', leaf_size=10, \n",
    "                   metric='minkowski', p=2, metric_params=None, contamination=0.01, n_jobs=-1)\n",
    "lof.fit(X_train)"
   ]
  },
  {
   "cell_type": "code",
   "execution_count": 32,
   "metadata": {},
   "outputs": [
    {
     "data": {
      "text/plain": [
       "-2.4139813043651075"
      ]
     },
     "execution_count": 32,
     "metadata": {},
     "output_type": "execute_result"
    }
   ],
   "source": [
    "lof.threshold_"
   ]
  },
  {
   "cell_type": "code",
   "execution_count": 33,
   "metadata": {},
   "outputs": [
    {
     "name": "stdout",
     "output_type": "stream",
     "text": [
      "Counter({1: 46510, -1: 470})\n",
      "Counter({1: 11627, -1: 118})\n"
     ]
    }
   ],
   "source": [
    "print(Counter(lof.fit_predict(X_train)))\n",
    "print(Counter(lof.fit_predict(X_test)))"
   ]
  },
  {
   "cell_type": "code",
   "execution_count": 34,
   "metadata": {
    "scrolled": true
   },
   "outputs": [
    {
     "data": {
      "text/plain": [
       "array([-1.05756798, -0.99835014, -1.05534354, ..., -1.07897108,\n",
       "       -0.98970933, -1.0036345 ])"
      ]
     },
     "execution_count": 34,
     "metadata": {},
     "output_type": "execute_result"
    }
   ],
   "source": [
    "lof.negative_outlier_factor_"
   ]
  },
  {
   "cell_type": "code",
   "execution_count": 35,
   "metadata": {},
   "outputs": [
    {
     "name": "stdout",
     "output_type": "stream",
     "text": [
      "-2.41398130437\n"
     ]
    }
   ],
   "source": [
    "lof.fit(X_train)\n",
    "print(lof.threshold_)"
   ]
  },
  {
   "cell_type": "code",
   "execution_count": 36,
   "metadata": {},
   "outputs": [
    {
     "name": "stdout",
     "output_type": "stream",
     "text": [
      "-2.59344405855\n"
     ]
    }
   ],
   "source": [
    "lof.fit(X_test)\n",
    "print(lof.threshold_)"
   ]
  },
  {
   "cell_type": "markdown",
   "metadata": {},
   "source": [
    "### Predict the Anomaly Scores\n",
    "We can get the anomaly score of the input samples. <b>The lower, the more abnormal.</b>"
   ]
  },
  {
   "cell_type": "code",
   "execution_count": 37,
   "metadata": {},
   "outputs": [],
   "source": [
    "lof.fit(X_train)\n",
    "y_train_anomaly_score = lof.negative_outlier_factor_\n",
    "threshold_train = lof.threshold_\n",
    "lof.fit(X_test)\n",
    "y_test_anomaly_score = lof.negative_outlier_factor_\n",
    "threshold_test = lof.threshold_"
   ]
  },
  {
   "cell_type": "code",
   "execution_count": 38,
   "metadata": {
    "scrolled": true
   },
   "outputs": [
    {
     "data": {
      "text/plain": [
       "-2.4747538290078248"
      ]
     },
     "execution_count": 38,
     "metadata": {},
     "output_type": "execute_result"
    }
   ],
   "source": [
    "np.percentile(y_train_anomaly_score, 0.95)"
   ]
  },
  {
   "cell_type": "code",
   "execution_count": 39,
   "metadata": {},
   "outputs": [
    {
     "name": "stdout",
     "output_type": "stream",
     "text": [
      "Counter({1: 46532, -1: 448})\n",
      "Counter({1: 11633, -1: 112})\n"
     ]
    }
   ],
   "source": [
    "y_train_score = np.where(y_train_anomaly_score<=np.percentile(y_train_anomaly_score, 0.95), -1, 1)\n",
    "y_test_score = np.where(y_test_anomaly_score<=np.percentile(y_test_anomaly_score, 0.95), -1, 1)\n",
    "print(Counter(y_train_score))\n",
    "print(Counter(y_test_score))"
   ]
  },
  {
   "cell_type": "code",
   "execution_count": 40,
   "metadata": {
    "scrolled": true
   },
   "outputs": [
    {
     "name": "stdout",
     "output_type": "stream",
     "text": [
      "DescribeResult(nobs=46980, minmax=(-20328376100165.422, -0.86873015873936554), mean=-2535912130.8098354, variance=2.321973429244847e+22, skewness=-103.62027295849286, kurtosis=12952.017762695932)\n",
      "DescribeResult(nobs=11745, minmax=(-83785680863818.688, -0.92308345964035576), mean=-39494743320.451263, variance=2.1230815562256187e+24, skewness=-44.316594333424675, kurtosis=2134.809837378202)\n"
     ]
    }
   ],
   "source": [
    "print(sp.stats.describe(y_train_anomaly_score))\n",
    "print(sp.stats.describe(y_test_anomaly_score))"
   ]
  },
  {
   "cell_type": "markdown",
   "metadata": {},
   "source": [
    "### Predict the labels (outlier or inlier)\n",
    "Predict if a particular sample is an outlier or not. For each observation, tells whether or not (+1 or -1) it should be considered as an inlier according to the fitted model."
   ]
  },
  {
   "cell_type": "code",
   "execution_count": 41,
   "metadata": {},
   "outputs": [],
   "source": [
    "y_pred_train = lof.fit_predict(X_train)\n",
    "y_pred_test = lof.fit_predict(X_test)"
   ]
  },
  {
   "cell_type": "code",
   "execution_count": 42,
   "metadata": {},
   "outputs": [
    {
     "name": "stdout",
     "output_type": "stream",
     "text": [
      "Counter({1: 45217, -1: 1763})\n",
      "Counter({1: 11299, -1: 446})\n",
      "Counter({1: 46510, -1: 470})\n",
      "Counter({1: 11627, -1: 118})\n"
     ]
    }
   ],
   "source": [
    "print(Counter(y_train))\n",
    "print(Counter(y_test))\n",
    "print(Counter(y_pred_train))\n",
    "print(Counter(y_pred_test))"
   ]
  },
  {
   "cell_type": "markdown",
   "metadata": {},
   "source": [
    "### Evaluation metrics for Training data"
   ]
  },
  {
   "cell_type": "code",
   "execution_count": 43,
   "metadata": {
    "scrolled": true
   },
   "outputs": [
    {
     "name": "stdout",
     "output_type": "stream",
     "text": [
      "Accuracy: 0.956\n",
      "Precision: 0.964\n",
      "Recall: 0.991\n",
      "f1 Score: 0.977\n",
      "Area Under the Precision-Recall Curve (AUPRC): 0.964\n"
     ]
    }
   ],
   "source": [
    "print(\"Accuracy: {:.3f}\".format(accuracy_score(y_train, y_pred_train)))\n",
    "print(\"Precision: {:.3f}\".format(precision_score(y_train, y_pred_train)))  \n",
    "print(\"Recall: {:.3f}\".format(recall_score(y_train, y_pred_train)))  \n",
    "print(\"f1 Score: {:.3f}\".format(f1_score(y_train, y_pred_train)))  \n",
    "print(\"Area Under the Precision-Recall Curve (AUPRC): {:.3f}\".format(average_precision_score(y_train, y_pred_train)))"
   ]
  },
  {
   "cell_type": "code",
   "execution_count": 44,
   "metadata": {},
   "outputs": [
    {
     "data": {
      "image/png": "[encoded data removed]",
      "text/plain": [
       "<Figure size 432x288 with 1 Axes>"
      ]
     },
     "metadata": {},
     "output_type": "display_data"
    }
   ],
   "source": [
    "precision, recall, _ = precision_recall_curve(y_train, y_pred_train)\n",
    "auprc = average_precision_score(y_train, y_pred_train)\n",
    "plt.title('Precision-Recall Curve')\n",
    "plt.plot(precision, recall, 'b', label = 'AUPRC = %0.2f' % auprc)\n",
    "plt.legend(loc = 'lower right')\n",
    "plt.plot([0, 1], [0, 1],'r--')\n",
    "plt.xlim([0, 1])\n",
    "plt.ylim([0, 1.05])\n",
    "plt.ylabel('Recall')\n",
    "plt.xlabel('Precision')\n",
    "plt.show()"
   ]
  },
  {
   "cell_type": "markdown",
   "metadata": {},
   "source": [
    "### Evaluation metrics for Test data"
   ]
  },
  {
   "cell_type": "code",
   "execution_count": 45,
   "metadata": {
    "scrolled": true
   },
   "outputs": [
    {
     "name": "stdout",
     "output_type": "stream",
     "text": [
      "Accuracy: 0.956\n",
      "Precision: 0.964\n",
      "Recall: 0.992\n",
      "f1 Score: 0.977\n",
      "Area Under the Precision-Recall Curve (AUPRC): 0.964\n"
     ]
    }
   ],
   "source": [
    "print(\"Accuracy: {:.3f}\".format(accuracy_score(y_test, y_pred_test)))  \n",
    "print(\"Precision: {:.3f}\".format(precision_score(y_test, y_pred_test)))  \n",
    "print(\"Recall: {:.3f}\".format(recall_score(y_test, y_pred_test)))  \n",
    "print(\"f1 Score: {:.3f}\".format(f1_score(y_test, y_pred_test)))  \n",
    "print(\"Area Under the Precision-Recall Curve (AUPRC): {:.3f}\".format(average_precision_score(y_test, y_pred_test)))"
   ]
  },
  {
   "cell_type": "code",
   "execution_count": 46,
   "metadata": {},
   "outputs": [
    {
     "data": {
      "image/png": "[encoded data removed]",
      "text/plain": [
       "<Figure size 432x288 with 1 Axes>"
      ]
     },
     "metadata": {},
     "output_type": "display_data"
    }
   ],
   "source": [
    "precision, recall, _ = precision_recall_curve(y_test, y_pred_test)\n",
    "auprc = average_precision_score(y_test, y_pred_test)\n",
    "plt.title('Precision-Recall Curve')\n",
    "plt.plot(precision, recall, 'b', label = 'AUPRC = %0.2f' % auprc)\n",
    "plt.legend(loc = 'lower right')\n",
    "plt.plot([0, 1], [0, 1],'r--')\n",
    "plt.xlim([0, 1])\n",
    "plt.ylim([0, 1.05])\n",
    "plt.ylabel('Recall')\n",
    "plt.xlabel('Precision')\n",
    "plt.show()"
   ]
  },
  {
   "cell_type": "code",
   "execution_count": 47,
   "metadata": {},
   "outputs": [],
   "source": [
    "confmat_train = confusion_matrix(y_train, y_pred_train)\n",
    "confmat_test = confusion_matrix(y_test, y_pred_test)"
   ]
  },
  {
   "cell_type": "code",
   "execution_count": 48,
   "metadata": {},
   "outputs": [
    {
     "data": {
      "text/plain": [
       "<matplotlib.axes._subplots.AxesSubplot at 0x1bead25e7f0>"
      ]
     },
     "execution_count": 48,
     "metadata": {},
     "output_type": "execute_result"
    },
    {
     "data": {
      "image/png": "[encoded data removed]",
      "text/plain": [
       "<Figure size 576x288 with 2 Axes>"
      ]
     },
     "metadata": {},
     "output_type": "display_data"
    }
   ],
   "source": [
    "import seaborn as sns\n",
    "confmat_train = pd.DataFrame(confmat_train,\n",
    "                  ['True Attack','True Normal'],['Pred Attack','Pred Normal'])\n",
    "plt.figure(figsize = (8,4))\n",
    "sns.set(font_scale=1.4)# for label size\n",
    "sns.heatmap(confmat_train, annot=True, annot_kws={\"size\": 16},fmt='g')"
   ]
  },
  {
   "cell_type": "code",
   "execution_count": 49,
   "metadata": {},
   "outputs": [
    {
     "data": {
      "text/plain": [
       "<matplotlib.axes._subplots.AxesSubplot at 0x1bead346a58>"
      ]
     },
     "execution_count": 49,
     "metadata": {},
     "output_type": "execute_result"
    },
    {
     "data": {
      "image/png": "[encoded data removed]",
      "text/plain": [
       "<Figure size 576x288 with 2 Axes>"
      ]
     },
     "metadata": {},
     "output_type": "display_data"
    }
   ],
   "source": [
    "import seaborn as sns\n",
    "confmat_train = pd.DataFrame(confmat_test,\n",
    "                  ['True Attack','True Normal'],['Pred Attack','Pred Normal'])\n",
    "plt.figure(figsize = (8,4))\n",
    "sns.set(font_scale=1.4)# for label size\n",
    "sns.heatmap(confmat_train, annot=True, annot_kws={\"size\": 16},fmt='g')"
   ]
  }
 ],
 "metadata": {
  "kernelspec": {
   "display_name": "Python 3",
   "language": "python",
   "name": "python3"
  },
  "language_info": {
   "codemirror_mode": {
    "name": "ipython",
    "version": 3
   },
   "file_extension": ".py",
   "mimetype": "text/x-python",
   "name": "python",
   "nbconvert_exporter": "python",
   "pygments_lexer": "ipython3",
   "version": "3.6.6"
  }
 },
 "nbformat": 4,
 "nbformat_minor": 2
}
